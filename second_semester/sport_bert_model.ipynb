{
 "cells": [
  {
   "cell_type": "code",
   "execution_count": 1,
   "metadata": {
    "pycharm": {
     "name": "#%%\n"
    }
   },
   "outputs": [],
   "source": [
    "# Imports\n",
    "\n",
    "import os\n",
    "\n",
    "import numpy as np\n",
    "import matplotlib.pyplot as plt\n",
    "import pandas as pd\n",
    "import re\n",
    "import json\n",
    "\n",
    "from sklearn.utils import shuffle\n",
    "from sklearn.model_selection import train_test_split\n",
    "from tensorflow.keras.utils import to_categorical\n",
    "from tensorflow.python.keras.callbacks import EarlyStopping\n",
    "\n",
    "import tensorflow as tf\n",
    "import tensorflow_addons as tfa\n",
    "\n",
    "import seaborn as sn\n",
    "\n",
    "import tensorflow_hub as hub\n",
    "import tensorflow_datasets as tfds\n",
    "\n",
    "from official.modeling import tf_utils\n",
    "from official import nlp\n",
    "from official.nlp import bert\n",
    "\n",
    "import official.nlp.optimization\n",
    "import official.nlp.bert.bert_models\n",
    "import official.nlp.bert.configs\n",
    "import official.nlp.bert.run_classifier\n",
    "import official.nlp.bert.tokenization\n",
    "import official.nlp.data.classifier_data_lib\n",
    "import official.nlp.modeling.losses\n",
    "import official.nlp.modeling.models\n",
    "import official.nlp.modeling.networks\n",
    "\n",
    "# BERT model, tokenizer\n",
    "from tensorflow.python.keras.layers import Flatten\n",
    "\n",
    "from transformers import TFBertForSequenceClassification, TFAutoModel , AutoTokenizer"
   ]
  },
  {
   "cell_type": "code",
   "execution_count": 2,
   "metadata": {
    "pycharm": {
     "name": "#%%\n"
    }
   },
   "outputs": [],
   "source": [
    "# Constants\n",
    "\n",
    "# Specialis karakterekkel a maximalis kodolt szoveg max hossza\n",
    "\n",
    "SHUFFLE_RANDOM_STATE = 42\n",
    "TRAIN_RANDOM_STATE = 42\n",
    "TEST_RANDOM_STATE = 42\n",
    "\n",
    "TEXT = 'Sentence'\n",
    "FILTER = 'Entity'\n",
    "START_TOKEN = 'START'\n",
    "TOKEN_LEN = 'LEN'\n",
    "Y_HEADER = 'LABEL'\n",
    "LABELS = {\n",
    "    \"SPORT\": 0,\n",
    "    \"VIDEÓJÁTÉK\": 1\n",
    "}\n",
    "\n",
    "EKEZET_VALTAS_RAGNAL = {\n",
    "    'a': 'á',\n",
    "    'e': 'é'\n",
    "}\n",
    "\n",
    "MAX_SEQUENCE_LENGTH = 64\n",
    "\n",
    "BATCH_SIZE = 16\n",
    "EPOCHS = 10\n",
    "# Maximum hány dokumentumot nézzünk. None esetén mindet\n",
    "TRAIN_PROCESSED_MAX_DOCUMENTS = None\n",
    "# Maximum hány dokumentumot nézzünk. None esetén mindet\n",
    "TEST_PROCESSED_MAX_DOCUMENTS = None"
   ]
  },
  {
   "cell_type": "code",
   "execution_count": 3,
   "metadata": {
    "pycharm": {
     "name": "#%%\n"
    }
   },
   "outputs": [
    {
     "name": "stdout",
     "output_type": "stream",
     "text": [
      "[PhysicalDevice(name='/physical_device:GPU:0', device_type='GPU')]\n"
     ]
    }
   ],
   "source": [
    "physical_devices = tf.config.experimental.list_physical_devices('GPU')\n",
    "print(physical_devices)\n",
    "if physical_devices:\n",
    "  tf.config.experimental.set_memory_growth(physical_devices[0], True)\n"
   ]
  },
  {
   "cell_type": "code",
   "execution_count": 4,
   "metadata": {
    "pycharm": {
     "name": "#%%\n"
    }
   },
   "outputs": [],
   "source": [
    "URL_RE = 'https?:\\/\\/(www\\.)?[-a-zA-Z0-9@:%._\\+~#=]{1,256}\\.[a-zA-Z0-9()]{1,6}([-a-zA-Z0-9()@:%_+.~#?&/=]*)'\n",
    "WHITELIST_RE = '[^a-zA-Z0-9íÍöÖüÜóÓőŐúÚáÁéÉűŰ]'\n",
    "\n",
    "ures = 0\n",
    "\n",
    "def cleanse(i):\n",
    "    global ures\n",
    "    text = dataset[TEXT].iloc[i]\n",
    "    text = re.sub(URL_RE, ' ', text)\n",
    "    text = re.sub(WHITELIST_RE, ' ', text)\n",
    "    text = ' '.join([text.lower()])\n",
    "    return re.sub(' +', ' ', text)\n",
    "\n",
    "def delete_empty_rows(dataset):\n",
    "    ids_to_delete = dataset.index[dataset[TEXT] == ' '].tolist()\n",
    "    return dataset.drop(ids_to_delete)"
   ]
  },
  {
   "cell_type": "code",
   "execution_count": 5,
   "metadata": {
    "pycharm": {
     "name": "#%%\n"
    },
    "scrolled": true
   },
   "outputs": [
    {
     "name": "stderr",
     "output_type": "stream",
     "text": [
      "C:\\Users\\Daniel_Janos_Robert\\AppData\\Roaming\\Python\\Python38\\site-packages\\IPython\\core\\interactiveshell.py:3417: FutureWarning: The error_bad_lines argument has been deprecated and will be removed in a future version.\n",
      "\n",
      "\n",
      "  exec(code_obj, self.user_global_ns, self.user_ns)\n"
     ]
    },
    {
     "name": "stdout",
     "output_type": "stream",
     "text": [
      "<class 'pandas.core.frame.DataFrame'>\n",
      "Int64Index: 49954 entries, 7565 to 15795\n",
      "Data columns (total 3 columns):\n",
      " #   Column      Non-Null Count  Dtype \n",
      "---  ------      --------------  ----- \n",
      " 0   Sentence    49954 non-null  object\n",
      " 1   LABEL       49954 non-null  int64 \n",
      " 2   Unnamed: 2  1 non-null      object\n",
      "dtypes: int64(1), object(2)\n",
      "memory usage: 1.5+ MB\n"
     ]
    },
    {
     "name": "stderr",
     "output_type": "stream",
     "text": [
      "C:\\Users\\Daniel_Janos_Robert\\anaconda3\\envs\\vegleges_tf\\lib\\site-packages\\pandas\\core\\indexing.py:1732: SettingWithCopyWarning: \n",
      "A value is trying to be set on a copy of a slice from a DataFrame\n",
      "\n",
      "See the caveats in the documentation: https://pandas.pydata.org/pandas-docs/stable/user_guide/indexing.html#returning-a-view-versus-a-copy\n",
      "  self._setitem_single_block(indexer, value, name)\n"
     ]
    }
   ],
   "source": [
    "# Load and set up data\n",
    "\n",
    "\n",
    "dataset = pd.read_csv('db/sport_or_e_sport.csv', sep=';', error_bad_lines=False)\n",
    "dataset[Y_HEADER] = dataset[Y_HEADER].map(LABELS)\n",
    "dataset = shuffle(dataset, random_state=SHUFFLE_RANDOM_STATE)\n",
    "dataset.info()\n",
    "\n",
    "dataset = delete_empty_rows(dataset)\n",
    "for i  in range(len(dataset.index)):\n",
    "    dataset[TEXT].iloc[i] = cleanse(i)\n",
    "    \n",
    "dataset = delete_empty_rows(dataset)\n",
    "dataset.head(5)\n",
    "X = dataset[TEXT].values\n",
    "y = dataset[Y_HEADER].values\n",
    "\n",
    "X_train, X_rem, y_train, y_rem = train_test_split(X, y, train_size=0.8, random_state=TRAIN_RANDOM_STATE)\n",
    "\n",
    "X_dev, X_test, y_dev, y_test = train_test_split(X_rem, y_rem, train_size=0.5, random_state=TEST_RANDOM_STATE)\n",
    "\n",
    "y_train_labels = y_train\n",
    "y_dev_labels = y_dev\n",
    "y_test_labels = y_test\n",
    "y_train = to_categorical(y_train, 2)\n",
    "y_dev = to_categorical(y_dev, 2)\n",
    "y_test = to_categorical(y_test, 2)\n"
   ]
  },
  {
   "cell_type": "code",
   "execution_count": 6,
   "metadata": {},
   "outputs": [
    {
     "data": {
      "image/png": "[encoded data removed]",
      "text/plain": [
       "<Figure size 432x288 with 1 Axes>"
      ]
     },
     "metadata": {
      "needs_background": "light"
     },
     "output_type": "display_data"
    },
    {
     "data": {
      "image/png": "[encoded data removed]",
      "text/plain": [
       "<Figure size 432x288 with 1 Axes>"
      ]
     },
     "metadata": {
      "needs_background": "light"
     },
     "output_type": "display_data"
    },
    {
     "data": {
      "image/png": "[encoded data removed]",
      "text/plain": [
       "<Figure size 432x288 with 1 Axes>"
      ]
     },
     "metadata": {
      "needs_background": "light"
     },
     "output_type": "display_data"
    }
   ],
   "source": [
    "# eloszlas\n",
    "\n",
    "def plot_label_counts(y, title='y labels'):\n",
    "    unique, counts = np.unique(y, return_counts=True)\n",
    "    b = dict(zip(unique, counts))\n",
    "    plt.barh(range(len(b)),  list(b.values()), align='center', color=['lightblue', 'lightgreen'])\n",
    "    y_values = [\"Sport\", \"Videójáték\"]\n",
    "    y_axis = np.arange(0, 2, 1)\n",
    "    plt.yticks(y_axis, y_values)\n",
    "    plt.title(title)\n",
    "    plt.xlabel('Number of Samples in training Set')\n",
    "    plt.ylabel('Label')\n",
    "    ax = plt.gca()\n",
    "    for i, v in enumerate(b.values()):\n",
    "        plt.text(ax.get_xlim()[1]/100, i, str(v), color='blue', fontweight='bold')\n",
    "    plt.show()\n",
    "\n",
    "\n",
    "plot_label_counts(y_train_labels, 'Train eloszlas')\n",
    "plot_label_counts(y_dev_labels, 'Dev eloszlas')\n",
    "plot_label_counts(y_test_labels, 'Test eloszlas')\n"
   ]
  },
  {
   "cell_type": "code",
   "execution_count": 7,
   "metadata": {
    "pycharm": {
     "name": "#%%\n"
    }
   },
   "outputs": [
    {
     "name": "stderr",
     "output_type": "stream",
     "text": [
      "All model checkpoint layers were used when initializing TFBertForSequenceClassification.\n",
      "\n",
      "Some layers of TFBertForSequenceClassification were not initialized from the model checkpoint at SZTAKI-HLT/hubert-base-cc and are newly initialized: ['classifier']\n",
      "You should probably TRAIN this model on a down-stream task to be able to use it for predictions and inference.\n"
     ]
    }
   ],
   "source": [
    "bert_tokenizer = AutoTokenizer.from_pretrained(\"SZTAKI-HLT/hubert-base-cc\")\n",
    "bert_model = TFBertForSequenceClassification.from_pretrained(\"SZTAKI-HLT/hubert-base-cc\", num_labels=2)"
   ]
  },
  {
   "cell_type": "code",
   "execution_count": 8,
   "metadata": {
    "pycharm": {
     "name": "#%%\n"
    }
   },
   "outputs": [],
   "source": [
    "def batch_encode(X):\n",
    "    return bert_tokenizer.batch_encode_plus(\n",
    "    X,\n",
    "    truncation=True,\n",
    "    max_length=MAX_SEQUENCE_LENGTH,\n",
    "    add_special_tokens=True, # add [CLS] and [SEP] tokens\n",
    "    return_attention_mask=True,\n",
    "    return_token_type_ids=False, # not needed for this type of ML task\n",
    "    padding='max_length', # add 0 pad tokens to the sequences less than max_length\n",
    "    return_tensors='tf'\n",
    ")\n",
    "X_train = X_train.tolist()\n",
    "X_dev = X_dev.tolist()\n",
    "X_test = X_test.tolist()\n",
    "\n",
    "\n",
    "X_train = batch_encode(X_train[:TRAIN_PROCESSED_MAX_DOCUMENTS])\n",
    "X_dev = batch_encode(X_dev[:TEST_PROCESSED_MAX_DOCUMENTS])\n",
    "X_test = batch_encode(X_test[:TEST_PROCESSED_MAX_DOCUMENTS])\n",
    "y_train = y_train[:TRAIN_PROCESSED_MAX_DOCUMENTS]\n",
    "y_dev = y_dev[:TEST_PROCESSED_MAX_DOCUMENTS]\n",
    "y_test = y_test[:TEST_PROCESSED_MAX_DOCUMENTS]"
   ]
  },
  {
   "cell_type": "code",
   "execution_count": 9,
   "metadata": {
    "pycharm": {
     "name": "#%%\n"
    }
   },
   "outputs": [],
   "source": [
    "def create_model():\n",
    "    input_ids = tf.keras.layers.Input(shape=(64,), dtype=tf.int32, name='input_ids')\n",
    "    attention_mask = tf.keras.layers.Input((64,), dtype=tf.int32, name='attention_mask')\n",
    "    output = bert_model([input_ids, attention_mask])[0]\n",
    "    output = tf.keras.layers.Dropout(rate=0.15)(output)\n",
    "    output = tf.keras.layers.Dense(2, activation='softmax')(output)\n",
    "    result = tf.keras.models.Model(inputs=[input_ids, attention_mask], outputs=output)\n",
    "    return result\n",
    "\n",
    "model = create_model()\n",
    "\n",
    "opt = tf.keras.optimizers.Adam(learning_rate=3e-5)\n",
    "model.compile(optimizer=opt, loss='categorical_crossentropy', metrics=['accuracy'])"
   ]
  },
  {
   "cell_type": "code",
   "execution_count": 10,
   "metadata": {
    "pycharm": {
     "name": "#%%\n"
    }
   },
   "outputs": [
    {
     "name": "stdout",
     "output_type": "stream",
     "text": [
      "BertConfig {\n",
      "  \"_name_or_path\": \"SZTAKI-HLT/hubert-base-cc\",\n",
      "  \"attention_probs_dropout_prob\": 0.1,\n",
      "  \"classifier_dropout\": null,\n",
      "  \"gradient_checkpointing\": false,\n",
      "  \"hidden_act\": \"gelu\",\n",
      "  \"hidden_dropout_prob\": 0.1,\n",
      "  \"hidden_size\": 768,\n",
      "  \"initializer_range\": 0.02,\n",
      "  \"intermediate_size\": 3072,\n",
      "  \"layer_norm_eps\": 1e-12,\n",
      "  \"max_position_embeddings\": 512,\n",
      "  \"model_type\": \"bert\",\n",
      "  \"num_attention_heads\": 12,\n",
      "  \"num_hidden_layers\": 12,\n",
      "  \"pad_token_id\": 0,\n",
      "  \"position_embedding_type\": \"absolute\",\n",
      "  \"transformers_version\": \"4.11.3\",\n",
      "  \"type_vocab_size\": 2,\n",
      "  \"use_cache\": true,\n",
      "  \"vocab_size\": 32001\n",
      "}\n",
      "\n",
      "Model: \"model\"\n",
      "__________________________________________________________________________________________________\n",
      "Layer (type)                    Output Shape         Param #     Connected to                     \n",
      "==================================================================================================\n",
      "input_ids (InputLayer)          [(None, 64)]         0                                            \n",
      "__________________________________________________________________________________________________\n",
      "attention_mask (InputLayer)     [(None, 64)]         0                                            \n",
      "__________________________________________________________________________________________________\n",
      "tf_bert_for_sequence_classifica TFSequenceClassifier 110619650   input_ids[0][0]                  \n",
      "                                                                 attention_mask[0][0]             \n",
      "__________________________________________________________________________________________________\n",
      "dropout_38 (Dropout)            (None, 2)            0           tf_bert_for_sequence_classificati\n",
      "__________________________________________________________________________________________________\n",
      "dense (Dense)                   (None, 2)            6           dropout_38[0][0]                 \n",
      "==================================================================================================\n",
      "Total params: 110,619,656\n",
      "Trainable params: 110,619,656\n",
      "Non-trainable params: 0\n",
      "__________________________________________________________________________________________________\n"
     ]
    }
   ],
   "source": [
    "print(bert_model.config)\n",
    "model.summary()\n"
   ]
  },
  {
   "cell_type": "code",
   "execution_count": 11,
   "metadata": {
    "pycharm": {
     "name": "#%%\n"
    }
   },
   "outputs": [],
   "source": [
    "checkpoint_path = 'checkpoints/cp-{epoch:04d}.ckpt'\n",
    "checkpoint_dir = os.path.dirname(checkpoint_path)\n",
    "cp_callback = tf.keras.callbacks.ModelCheckpoint(filepath=checkpoint_path,\n",
    "                                                 save_weights_only=True,\n",
    "                                                 verbose=1)\n",
    "\n",
    "model.save_weights(checkpoint_path.format(epoch=0))"
   ]
  },
  {
   "cell_type": "code",
   "execution_count": 12,
   "metadata": {
    "pycharm": {
     "is_executing": true,
     "name": "#%%\n"
    }
   },
   "outputs": [
    {
     "name": "stdout",
     "output_type": "stream",
     "text": [
      "Epoch 1/10\n",
      "2444/2444 [==============================] - 1762s 716ms/step - loss: 0.1956 - accuracy: 0.9150 - val_loss: 0.1521 - val_accuracy: 0.9388\n",
      "Epoch 2/10\n",
      "2444/2444 [==============================] - 1922s 786ms/step - loss: 0.1446 - accuracy: 0.9388 - val_loss: 0.1384 - val_accuracy: 0.9495\n",
      "Epoch 3/10\n",
      "2444/2444 [==============================] - 1920s 785ms/step - loss: 0.1118 - accuracy: 0.9549 - val_loss: 0.1515 - val_accuracy: 0.9468\n",
      "Epoch 4/10\n",
      "2444/2444 [==============================] - 1912s 782ms/step - loss: 0.0901 - accuracy: 0.9630 - val_loss: 0.1441 - val_accuracy: 0.9439\n",
      "153/153 [==============================] - 80s 523ms/step - loss: 2.5373 - accuracy: 0.5016\n"
     ]
    }
   ],
   "source": [
    "# model = tf.keras.models.load_model('models')\n",
    "# model.load_weights(checkpoint_path)\n",
    "def fit_model():\n",
    "    history = model.fit(\n",
    "        x=X_train.values(),\n",
    "        y=y_train,\n",
    "        validation_data=(X_dev.values(), y_dev),\n",
    "        epochs=EPOCHS,\n",
    "        batch_size=BATCH_SIZE,\n",
    "        callbacks=[EarlyStopping(patience=2)]\n",
    "        #callbacks=[cp_callback]\n",
    "    )\n",
    "    result = model.evaluate(X_test.values(), y_dev)\n",
    "    predict = model.predict(X_test.values())\n",
    "    np_predict = np.argmax(predict,axis=1)\n",
    "    return history, result, np_predict\n",
    "\n",
    "history, result, predict = fit_model()"
   ]
  },
  {
   "cell_type": "code",
   "execution_count": 13,
   "metadata": {
    "pycharm": {
     "name": "#%%\n"
    }
   },
   "outputs": [
    {
     "name": "stdout",
     "output_type": "stream",
     "text": [
      "[2.5373475551605225, 0.5016366839408875]\n",
      "Classification report:\n",
      "              precision    recall  f1-score   support\n",
      "\n",
      "           0       0.95      0.95      0.95      2358\n",
      "           1       0.95      0.95      0.95      2530\n",
      "\n",
      "    accuracy                           0.95      4888\n",
      "   macro avg       0.95      0.95      0.95      4888\n",
      "weighted avg       0.95      0.95      0.95      4888\n",
      "\n",
      "Accuracy:\n",
      "0.9490589198036007\n",
      "Confusion matrix:\n"
     ]
    },
    {
     "data": {
      "image/png": "[encoded data removed]",
      "text/plain": [
       "<Figure size 720x504 with 2 Axes>"
      ]
     },
     "metadata": {
      "needs_background": "light"
     },
     "output_type": "display_data"
    }
   ],
   "source": [
    "from sklearn.metrics import confusion_matrix, classification_report, accuracy_score\n",
    "from sklearn.preprocessing import LabelEncoder\n",
    "le = LabelEncoder()\n",
    "\n",
    "def evaluate(predict, history, y):\n",
    "    y_le = le.fit_transform(y[:TEST_PROCESSED_MAX_DOCUMENTS])\n",
    "    print('Classification report:')\n",
    "    print(classification_report(y_le, predict))\n",
    "    print('Accuracy:')\n",
    "    print(accuracy_score(y_le, predict))\n",
    "\n",
    "    print('Confusion matrix:')\n",
    "    df_cm = pd.DataFrame(confusion_matrix(y_le, predict),\n",
    "                         index=[i for i in ['sport', 'videójáték']],\n",
    "                         columns=[i for i in ['sport', 'videójáték']])\n",
    "    plt.figure(figsize=(10,7))\n",
    "    hm = sn.heatmap(df_cm, annot=True, fmt='g', cmap=\"Blues\")\n",
    "    hm.set(ylabel='True label', xlabel='Predicted label')\n",
    "    plt.show()\n",
    "\n",
    "\n",
    "print(result)\n",
    "evaluate(predict, history, y_test_labels)"
   ]
  }
 ],
 "metadata": {
  "kernelspec": {
   "display_name": "Python 3 (ipykernel)",
   "language": "python",
   "name": "python3"
  },
  "language_info": {
   "codemirror_mode": {
    "name": "ipython",
    "version": 3
   },
   "file_extension": ".py",
   "mimetype": "text/x-python",
   "name": "python",
   "nbconvert_exporter": "python",
   "pygments_lexer": "ipython3",
   "version": "3.8.12"
  }
 },
 "nbformat": 4,
 "nbformat_minor": 1
}
