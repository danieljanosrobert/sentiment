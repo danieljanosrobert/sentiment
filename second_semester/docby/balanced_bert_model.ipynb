{
 "cells": [
  {
   "cell_type": "code",
   "execution_count": 1,
   "metadata": {},
   "outputs": [],
   "source": [
    "CONTEXT_LENGTH = None\n",
    "POZITIV_PERCENTAGE_TO_KEEP = 100\n",
    "NEGATIV_PERCENTAGE_TO_KEEP = 100\n",
    "SEMLEGES_PERCENTAGE_TO_KEEP = 25\n",
    "\n",
    "USE_STOPWORDS = False\n",
    "LOAD_CHECKPOINT = False\n",
    "CHECKPOINT_SUBDIR = 'balanced_bert/'\n",
    "CHECKPOINT_PREFIX = 'restore_best_weight_25_semleges/'\n",
    "ITER = \"1\""
   ]
  },
  {
   "cell_type": "code",
   "execution_count": 2,
   "metadata": {
    "pycharm": {
     "name": "#%%\n"
    }
   },
   "outputs": [],
   "source": [
    "# Imports\n",
    "\n",
    "import os\n",
    "\n",
    "import numpy as np\n",
    "import matplotlib.pyplot as plt\n",
    "import pandas as pd\n",
    "import random\n",
    "import re\n",
    "import json\n",
    "\n",
    "from sklearn.utils import shuffle\n",
    "from sklearn.model_selection import train_test_split\n",
    "from sklearn.utils import class_weight\n",
    "from sklearn.metrics import confusion_matrix, classification_report, accuracy_score \n",
    "from sklearn.preprocessing import LabelEncoder \n",
    "\n",
    "from tensorflow.keras.utils import to_categorical\n",
    "from tensorflow.python.keras.callbacks import EarlyStopping\n",
    "\n",
    "import tensorflow as tf\n",
    "\n",
    "import seaborn as sn\n",
    "\n",
    "from nltk.corpus import stopwords\n",
    "\n",
    "import pickle\n",
    "\n",
    "# BERT model, tokenizer\n",
    "from tensorflow.python.keras.layers import Flatten\n",
    "\n",
    "from transformers import TFBertForSequenceClassification, TFAutoModel , AutoTokenizer"
   ]
  },
  {
   "cell_type": "code",
   "execution_count": 3,
   "metadata": {
    "pycharm": {
     "name": "#%%\n"
    }
   },
   "outputs": [],
   "source": [
    "# Constants\n",
    "\n",
    "# Specialis karakterekkel a maximalis kodolt szoveg max hossza\n",
    "SEED = 42\n",
    "\n",
    "SHUFFLE_RANDOM_STATE = SEED\n",
    "TRAIN_RANDOM_STATE = SEED\n",
    "TEST_RANDOM_STATE = SEED\n",
    "RANDOM_SEED = SEED\n",
    "NP_SEED = SEED\n",
    "TF_SEED = SEED\n",
    "PYTHON_HASH_SEED = SEED\n",
    "\n",
    "TEXT = 'Sentence'\n",
    "START_TOKEN = 'START'\n",
    "TOKEN_LEN = 'LEN'\n",
    "Y_HEADER = 'LABEL'\n",
    "LABELS = {\n",
    "    \"NEG\": 0,\n",
    "    \"SEM\": 1,\n",
    "    \"POZ\": 2\n",
    "}\n",
    "\n",
    "MAX_SEQUENCE_LENGTH = 64\n",
    "\n",
    "BATCH_SIZE = 16\n",
    "EPOCHS = 30\n",
    "\n",
    "# Maximum hány dokumentumot nézzünk. None esetén mindet\n",
    "TRAIN_PROCESSED_MAX_DOCUMENTS = None\n",
    "# Maximum hány dokumentumot nézzünk. None esetén mindet\n",
    "TEST_PROCESSED_MAX_DOCUMENTS = None"
   ]
  },
  {
   "cell_type": "code",
   "execution_count": 4,
   "metadata": {},
   "outputs": [],
   "source": [
    "os.environ['PYTHONHASHSEED']=str(PYTHON_HASH_SEED)\n",
    "np.random.seed(NP_SEED)\n",
    "random.seed(RANDOM_SEED)\n",
    "tf.random.set_seed(TF_SEED)\n",
    "tf.compat.v1.set_random_seed(TF_SEED)\n",
    "os.environ['TF_CUDNN_DETERMINISTIC'] = '1'\n",
    "os.environ['TF_DETERMINISTIC_OPS'] = '1'\n",
    "os.environ['TF_DISABLE_SEGMENT_REDUCTION_OP_DETERMINISM_EXCEPTIONS'] = '1'\n",
    "session_conf = tf.compat.v1.ConfigProto(intra_op_parallelism_threads=1, inter_op_parallelism_threads=1)\n",
    "sess = tf.compat.v1.Session(graph=tf.compat.v1.get_default_graph(), config=session_conf)\n",
    "tf.compat.v1.keras.backend.set_session(sess)"
   ]
  },
  {
   "cell_type": "code",
   "execution_count": 5,
   "metadata": {
    "pycharm": {
     "name": "#%%\n"
    }
   },
   "outputs": [
    {
     "name": "stdout",
     "output_type": "stream",
     "text": [
      "[PhysicalDevice(name='/physical_device:GPU:0', device_type='GPU')]\n"
     ]
    }
   ],
   "source": [
    "physical_devices = tf.config.experimental.list_physical_devices('GPU')\n",
    "print(physical_devices)\n",
    "if physical_devices:\n",
    "  tf.config.experimental.set_memory_growth(physical_devices[0], True)\n",
    "\n",
    "path = 'checkpoints/' + CHECKPOINT_SUBDIR + CHECKPOINT_PREFIX"
   ]
  },
  {
   "cell_type": "code",
   "execution_count": 6,
   "metadata": {
    "pycharm": {
     "name": "#%%\n"
    }
   },
   "outputs": [],
   "source": [
    "# Text processing\n",
    "\n",
    "def extend_context(text, context, left_index, right_index, context_length):\n",
    "    if context_length is None:\n",
    "        context_length = len(text)\n",
    "    if type(text) != list:\n",
    "        text = text.split()\n",
    "    start_size = 0\n",
    "    while start_size < context_length:\n",
    "        if left_index > 0:\n",
    "            left_index -= 1\n",
    "            context.insert(0, text[left_index])\n",
    "            if len(text[left_index]) > 1:\n",
    "                start_size += 1\n",
    "        if right_index < len(text) -1:\n",
    "            right_index += 1\n",
    "            context.append(text[right_index])\n",
    "            if len(text[right_index]) > 1:\n",
    "                start_size += 1\n",
    "        if left_index <= 0 and right_index >= len(text) -1:\n",
    "            break\n",
    "    return ' '.join(context)\n",
    "\n",
    "#Ha a context_length None, akkor a teljes szövegre fut.\n",
    "def contextualize(index, debug = False, context_length=None):\n",
    "    global fix\n",
    "    text = ' '.join([i for i in re.split(r'( - |(?![%.-])\\W)|(-e[\\n ])', dataset[TEXT].iloc[index]) if i])\n",
    "    context_start_index = int(dataset[START_TOKEN].iloc[index] - 1)\n",
    "    context_stop_index = int(context_start_index+dataset[TOKEN_LEN].iloc[index] - 1)\n",
    "\n",
    "    context_name_tokens = \\\n",
    "        [t for t in text.split()[context_start_index:context_stop_index+1]]\n",
    "\n",
    "    context_list = context_name_tokens\n",
    "    left_index = context_start_index\n",
    "    right_index = context_stop_index\n",
    "    context = extend_context(text, context_list, left_index, right_index, context_length)\n",
    "    return context\n",
    "\n",
    "def delete_labeled_rows(dataset, label, percentage_to_remain = 10):\n",
    "    neutral_ids = dataset.index[dataset[Y_HEADER] == label].tolist()\n",
    "    neutral_id_drop = set(random.sample(range(len(neutral_ids)), int(len(neutral_ids) * percentage_to_remain / 100)))\n",
    "    ids_to_delete = [x for i,x in enumerate(neutral_ids) if not i in neutral_id_drop]\n",
    "    return dataset.drop(ids_to_delete)"
   ]
  },
  {
   "cell_type": "code",
   "execution_count": 7,
   "metadata": {
    "pycharm": {
     "name": "#%%\n"
    },
    "scrolled": true
   },
   "outputs": [
    {
     "name": "stdout",
     "output_type": "stream",
     "text": [
      "<class 'pandas.core.frame.DataFrame'>\n",
      "Int64Index: 7700 entries, 3856 to 7270\n",
      "Data columns (total 7 columns):\n",
      " #   Column    Non-Null Count  Dtype \n",
      "---  ------    --------------  ----- \n",
      " 0   ID        7700 non-null   int64 \n",
      " 1   START     7700 non-null   int64 \n",
      " 2   LEN       7700 non-null   int64 \n",
      " 3   Entity    7700 non-null   object\n",
      " 4   Sentence  7700 non-null   object\n",
      " 5   URL       7700 non-null   object\n",
      " 6   LABEL     7700 non-null   int64 \n",
      "dtypes: int64(4), object(3)\n",
      "memory usage: 481.2+ KB\n",
      "3422\n",
      "['Demján utalt arra : már a korábbi években is hangoztatta , hogy reformok végrehajtása nélkül Magyarország tíz évig Európa legszegényebb országa lesz.', 'A kitüntetést annak idején Bajcsy-Zsilinszky lapjában , az Előörsben József Attila egy szignó nélküli cikkében hevesen támadta , nemes egyszer ? séggel \" kultúrfityegőnek \" nevezve azt.', 'Tudható volt , hogy Németh Szilárd pozícióhalmozása előbb-utóbb Csepel kárára történik majd.', '- Immár két éve , hogy megrendezzük a Zöld Állomás üzletünk előtti parkolóban a Natura családi délelőttünket - fogalmazott Éder Andrea , főszervező.', 'A mészárlás miatt korábban már jogerősen elítélték Kaiser Edét , és vádat emeltek Hajdú László ellen is.', ', , Steve Jobs teremtette meg az emberarcú informatikát.', 'Korda György és Balázs Klári felejthetetlen pillanatokkal ajándékozza meg Önöket.', 'Kedden az Európai Bíróság közölte , hogy Czúcz Ottó is a meghosszabbított mandátumú bírák között van , és az erről szóló magyar kormányzati döntést a tagállami kormányokat képviselő Tanács is hivatalosan megerősítette.', 'Ábrahám megmenekült a tüzes kemencéből - később ugyanez történt utódaival , Chananja , Misaél és Ázárjával , akiket Babilónia királya , Nebuchadnecár vetett a tüzbe - és a Midrás Nimródot Ámráfellel , Sineár királyával azonositja , aki a négyes király-koalició tagja volt.', 'De fontosabbnak tűnik az MNB vezetőjének fizetéséről dönteni , Jávor szerint is bokrosak a kormány teendői.']\n"
     ]
    }
   ],
   "source": [
    "# Load and set up data\n",
    "\n",
    "dataset = pd.read_csv('db/train.csv', sep=';')\n",
    "dataset[Y_HEADER] = dataset[Y_HEADER].map(LABELS)\n",
    "dataset = shuffle(dataset, random_state=SHUFFLE_RANDOM_STATE)\n",
    "dataset.info()\n",
    "\n",
    "dataset = delete_labeled_rows(dataset, LABELS['SEM'], percentage_to_remain=SEMLEGES_PERCENTAGE_TO_KEEP)\n",
    "dataset = delete_labeled_rows(dataset, LABELS['NEG'], percentage_to_remain=NEGATIV_PERCENTAGE_TO_KEEP)\n",
    "dataset = delete_labeled_rows(dataset, LABELS['POZ'], percentage_to_remain=POZITIV_PERCENTAGE_TO_KEEP)\n",
    "\n",
    "X_list = []\n",
    "print(len(dataset.index))\n",
    "for i  in range(len(dataset.index)):\n",
    "    X_list.append(contextualize(i, context_length=CONTEXT_LENGTH))\n",
    "\n",
    "print(X_list[:10])\n",
    "X = np.asarray(X_list)\n",
    "y = dataset[Y_HEADER].values\n",
    "\n",
    "\n",
    "X_train, X_rem, y_train, y_rem = train_test_split(X, y, train_size=0.8, random_state=TRAIN_RANDOM_STATE)\n",
    "\n",
    "X_dev, X_test, y_dev, y_test = train_test_split(X_rem, y_rem, train_size=0.5, random_state=TEST_RANDOM_STATE)\n",
    "\n",
    "\n",
    "y_train_labels = y_train\n",
    "y_dev_labels = y_dev\n",
    "y_test_labels = y_test\n",
    "y_train = to_categorical(y_train, 3)\n",
    "y_dev = to_categorical(y_dev, 3)\n",
    "y_test = to_categorical(y_test, 3)\n"
   ]
  },
  {
   "cell_type": "code",
   "execution_count": 8,
   "metadata": {},
   "outputs": [
    {
     "data": {
      "image/png": "[encoded data removed]",
      "text/plain": [
       "<Figure size 432x288 with 1 Axes>"
      ]
     },
     "metadata": {
      "needs_background": "light"
     },
     "output_type": "display_data"
    },
    {
     "data": {
      "image/png": "[encoded data removed]",
      "text/plain": [
       "<Figure size 432x288 with 1 Axes>"
      ]
     },
     "metadata": {
      "needs_background": "light"
     },
     "output_type": "display_data"
    },
    {
     "data": {
      "image/png": "[encoded data removed]",
      "text/plain": [
       "<Figure size 432x288 with 1 Axes>"
      ]
     },
     "metadata": {
      "needs_background": "light"
     },
     "output_type": "display_data"
    }
   ],
   "source": [
    "# eloszlas\n",
    "\n",
    "def plot_label_counts(y, title='y labels'):\n",
    "    unique, counts = np.unique(y, return_counts=True)\n",
    "    b = dict(zip(unique, counts))\n",
    "    plt.barh(range(len(b)), list(b.values()), align='center', color=['pink', 'lightblue', 'lightgreen'])\n",
    "    y_values = [\"Negatív\", \"Semleges\", \"Pozitív\"]\n",
    "    y_axis = np.arange(0, 3, 1)\n",
    "    plt.yticks(y_axis, y_values)\n",
    "    plt.title(title)\n",
    "    plt.xlabel('Number of Samples in training Set')\n",
    "    plt.ylabel('Label')\n",
    "    ax = plt.gca()\n",
    "    for i, v in enumerate(b.values()):\n",
    "        plt.text(ax.get_xlim()[1]/100, i, str(v), color='blue', fontweight='bold')\n",
    "    plt.show()\n",
    "\n",
    "plot_label_counts(y_train_labels, 'Train eloszlas')\n",
    "plot_label_counts(y_dev_labels, 'Dev eloszlas')\n",
    "plot_label_counts(y_test_labels, 'Test eloszlas')\n"
   ]
  },
  {
   "cell_type": "code",
   "execution_count": 9,
   "metadata": {
    "pycharm": {
     "name": "#%%\n"
    }
   },
   "outputs": [
    {
     "name": "stderr",
     "output_type": "stream",
     "text": [
      "All model checkpoint layers were used when initializing TFBertForSequenceClassification.\n",
      "\n",
      "Some layers of TFBertForSequenceClassification were not initialized from the model checkpoint at SZTAKI-HLT/hubert-base-cc and are newly initialized: ['classifier']\n",
      "You should probably TRAIN this model on a down-stream task to be able to use it for predictions and inference.\n"
     ]
    }
   ],
   "source": [
    "bert_tokenizer = AutoTokenizer.from_pretrained(\"SZTAKI-HLT/hubert-base-cc\")\n",
    "bert_model = TFBertForSequenceClassification.from_pretrained(\"SZTAKI-HLT/hubert-base-cc\", num_labels=3)"
   ]
  },
  {
   "cell_type": "code",
   "execution_count": 10,
   "metadata": {},
   "outputs": [],
   "source": [
    "all_stopwords = []\n",
    "\n",
    "def apply_stopwords(sentences):\n",
    "    global all_stopwords\n",
    "    corpus = []\n",
    "    for sen in sentences:\n",
    "        sentence = sen.split()\n",
    "        all_stopwords = stopwords.words('hungarian')\n",
    "        whitelist = [\"ne\", \"nem\", \"se\", \"sem\"]\n",
    "        sentence = [word for word in sentence if (word.lower() not in all_stopwords or word.lower() in whitelist)\n",
    "                 and len(word) > 1]\n",
    "        sentence = ' '.join(sentence)\n",
    "        corpus.append(sentence)\n",
    "\n",
    "    return corpus\n"
   ]
  },
  {
   "cell_type": "code",
   "execution_count": 11,
   "metadata": {
    "pycharm": {
     "name": "#%%\n"
    },
    "scrolled": false
   },
   "outputs": [],
   "source": [
    "def batch_encode(X):\n",
    "    return bert_tokenizer.batch_encode_plus(\n",
    "    X,\n",
    "    truncation=True,\n",
    "    max_length=MAX_SEQUENCE_LENGTH,\n",
    "    add_special_tokens=True, # add [CLS] and [SEP] tokens\n",
    "    return_attention_mask=True,\n",
    "    return_token_type_ids=False, # not needed for this type of ML task\n",
    "    padding='max_length', # add 0 pad tokens to the sequences less than max_length\n",
    "    return_tensors='tf'\n",
    ")\n",
    "X_train = X_train.tolist() if not USE_STOPWORDS else apply_stopwords(X_train.tolist())\n",
    "X_dev = X_dev.tolist() if not USE_STOPWORDS else apply_stopwords(X_dev.tolist())\n",
    "X_test = X_test.tolist() if not USE_STOPWORDS else apply_stopwords(X_test.tolist())\n",
    "\n",
    "\n",
    "X_train = batch_encode(X_train[:TRAIN_PROCESSED_MAX_DOCUMENTS])\n",
    "X_dev = batch_encode(X_dev[:TEST_PROCESSED_MAX_DOCUMENTS])\n",
    "X_test = batch_encode(X_test[:TEST_PROCESSED_MAX_DOCUMENTS])\n",
    "y_train = y_train[:TRAIN_PROCESSED_MAX_DOCUMENTS]\n",
    "y_dev = y_dev[:TEST_PROCESSED_MAX_DOCUMENTS]\n",
    "y_test = y_test[:TEST_PROCESSED_MAX_DOCUMENTS]"
   ]
  },
  {
   "cell_type": "code",
   "execution_count": 12,
   "metadata": {
    "pycharm": {
     "is_executing": true,
     "name": "#%%\n"
    }
   },
   "outputs": [],
   "source": [
    "def create_model():\n",
    "    input_ids = tf.keras.layers.Input(shape=(64,), dtype=tf.int32, name='input_ids')\n",
    "    attention_mask = tf.keras.layers.Input((64,), dtype=tf.int32, name='attention_mask')\n",
    "    output = bert_model([input_ids, attention_mask])[0]\n",
    "    output = tf.keras.layers.Dropout(rate=0.15)(output)\n",
    "    output = tf.keras.layers.Dense(3, activation='softmax')(output)\n",
    "    result = tf.keras.models.Model(inputs=[input_ids, attention_mask], outputs=output)\n",
    "    return result\n",
    "\n",
    "model = create_model()\n",
    "\n",
    "opt = tf.keras.optimizers.Adam(learning_rate=3e-5)\n",
    "model.compile(optimizer=opt, loss='categorical_crossentropy', metrics=['accuracy'])"
   ]
  },
  {
   "cell_type": "code",
   "execution_count": 13,
   "metadata": {
    "pycharm": {
     "is_executing": true,
     "name": "#%%\n"
    }
   },
   "outputs": [
    {
     "name": "stdout",
     "output_type": "stream",
     "text": [
      "BertConfig {\n",
      "  \"_name_or_path\": \"SZTAKI-HLT/hubert-base-cc\",\n",
      "  \"attention_probs_dropout_prob\": 0.1,\n",
      "  \"classifier_dropout\": null,\n",
      "  \"gradient_checkpointing\": false,\n",
      "  \"hidden_act\": \"gelu\",\n",
      "  \"hidden_dropout_prob\": 0.1,\n",
      "  \"hidden_size\": 768,\n",
      "  \"id2label\": {\n",
      "    \"0\": \"LABEL_0\",\n",
      "    \"1\": \"LABEL_1\",\n",
      "    \"2\": \"LABEL_2\"\n",
      "  },\n",
      "  \"initializer_range\": 0.02,\n",
      "  \"intermediate_size\": 3072,\n",
      "  \"label2id\": {\n",
      "    \"LABEL_0\": 0,\n",
      "    \"LABEL_1\": 1,\n",
      "    \"LABEL_2\": 2\n",
      "  },\n",
      "  \"layer_norm_eps\": 1e-12,\n",
      "  \"max_position_embeddings\": 512,\n",
      "  \"model_type\": \"bert\",\n",
      "  \"num_attention_heads\": 12,\n",
      "  \"num_hidden_layers\": 12,\n",
      "  \"pad_token_id\": 0,\n",
      "  \"position_embedding_type\": \"absolute\",\n",
      "  \"transformers_version\": \"4.11.3\",\n",
      "  \"type_vocab_size\": 2,\n",
      "  \"use_cache\": true,\n",
      "  \"vocab_size\": 32001\n",
      "}\n",
      "\n",
      "Model: \"model\"\n",
      "__________________________________________________________________________________________________\n",
      "Layer (type)                    Output Shape         Param #     Connected to                     \n",
      "==================================================================================================\n",
      "input_ids (InputLayer)          [(None, 64)]         0                                            \n",
      "__________________________________________________________________________________________________\n",
      "attention_mask (InputLayer)     [(None, 64)]         0                                            \n",
      "__________________________________________________________________________________________________\n",
      "tf_bert_for_sequence_classifica TFSequenceClassifier 110620419   input_ids[0][0]                  \n",
      "                                                                 attention_mask[0][0]             \n",
      "__________________________________________________________________________________________________\n",
      "dropout_38 (Dropout)            (None, 3)            0           tf_bert_for_sequence_classificati\n",
      "__________________________________________________________________________________________________\n",
      "dense (Dense)                   (None, 3)            12          dropout_38[0][0]                 \n",
      "==================================================================================================\n",
      "Total params: 110,620,431\n",
      "Trainable params: 110,620,431\n",
      "Non-trainable params: 0\n",
      "__________________________________________________________________________________________________\n"
     ]
    }
   ],
   "source": [
    "print(bert_model.config)\n",
    "model.summary()\n"
   ]
  },
  {
   "cell_type": "code",
   "execution_count": 14,
   "metadata": {
    "pycharm": {
     "is_executing": true,
     "name": "#%%\n"
    }
   },
   "outputs": [],
   "source": [
    "checkpoint_path = path + 'cp.ckpt'\n",
    "cp_callback = tf.keras.callbacks.ModelCheckpoint(filepath=checkpoint_path,\n",
    "                                                 save_weights_only=True,\n",
    "                                                 verbose=1)"
   ]
  },
  {
   "cell_type": "code",
   "execution_count": 15,
   "metadata": {
    "pycharm": {
     "is_executing": true,
     "name": "#%%\n"
    }
   },
   "outputs": [],
   "source": [
    "def calculate_weights():\n",
    "    y_categorical = np.argmax(y_train, axis=-1)\n",
    "    class_weights = list(class_weight.compute_class_weight('balanced', classes=np.unique(dataset[Y_HEADER]), y=y_categorical))\n",
    "    weights={}\n",
    "    \n",
    "    for index, weight in enumerate(class_weights) :\n",
    "      weights[index]=weight\n",
    "    \n",
    "    return weights\n",
    "\n",
    "def get_history_as_text(history, epoch):\n",
    "    return f'Epoch {epoch+1: <3}: loss: {format(history[\"loss\"][epoch], \".4f\")} - accuracy: {format(history[\"accuracy\"][epoch], \".4f\")} - val_loss: {format(history[\"val_loss\"][epoch], \".4f\")} - val_accuracy: {format(history[\"val_accuracy\"][epoch], \".4f\")}'\n",
    "\n",
    "def fit_model():\n",
    "    weights = calculate_weights()\n",
    "    print(weights)\n",
    "    if not LOAD_CHECKPOINT:\n",
    "        if ITER == \"9\":\n",
    "            history = model.fit(\n",
    "                x=X_train.values(),\n",
    "                class_weight=weights,\n",
    "                y=y_train,\n",
    "                validation_data=(X_dev.values(), y_dev),\n",
    "                epochs=EPOCHS,\n",
    "                batch_size=BATCH_SIZE,\n",
    "                callbacks=[EarlyStopping(monitor='val_loss', mode='min', verbose=1, patience=2, restore_best_weights=True), cp_callback]\n",
    "            )\n",
    "        else:\n",
    "            history = model.fit(\n",
    "                x=X_train.values(),\n",
    "                class_weight=weights,\n",
    "                y=y_train,\n",
    "                validation_data=(X_dev.values(), y_dev),\n",
    "                epochs=EPOCHS,\n",
    "                batch_size=BATCH_SIZE,\n",
    "                callbacks=[EarlyStopping(monitor='val_loss', mode='min', verbose=1, patience=2, restore_best_weights=True)]\n",
    "            )\n",
    "        with open(path + '.history', 'wb') as file_pi:\n",
    "            pickle.dump(history.history, file_pi)\n",
    "        text_file = open(path + \"history\" + ITER + \".txt\", \"w\")\n",
    "        print(len(history.history['loss']))\n",
    "        for i in range(len(history.history['loss'])):\n",
    "            history_text = get_history_as_text(history.history, i)\n",
    "            print(history_text)\n",
    "            text_file.writelines(history_text + '\\n')\n",
    "        text_file.close()\n",
    "    else:\n",
    "        model.load_weights(checkpoint_path)\n",
    "        history = pickle.load(open(path + '.history', \"rb\"))\n",
    "        for i in range(len(history['loss'])):\n",
    "            history_text = get_history_as_text(history, i)\n",
    "            print(history_text)\n",
    "    result = model.evaluate(X_test.values(), y_test)\n",
    "    predict = model.predict(X_test.values())\n",
    "    np_predict = np.argmax(predict,axis=1)\n",
    "    return history, result, np_predict\n"
   ]
  },
  {
   "cell_type": "code",
   "execution_count": null,
   "outputs": [],
   "source": [
    "#history, result, predict = fit_model()"
   ],
   "metadata": {
    "collapsed": false,
    "pycharm": {
     "name": "#%%\n"
    }
   }
  },
  {
   "cell_type": "code",
   "execution_count": null,
   "outputs": [],
   "source": [
    "le = LabelEncoder()\n",
    "\n",
    "def evaluate(predict, result, y):\n",
    "    y_le = le.fit_transform(y[:TEST_PROCESSED_MAX_DOCUMENTS])\n",
    "    print('Classification report:')\n",
    "    print(classification_report(y_le, predict))\n",
    "    print(f'Accuracy: {accuracy_score(y_le, predict): >43}')\n",
    "    print(f'Accuracy from evaluation: {result[1]: >27}')\n",
    "    print('Confusion matrix:')\n",
    "    df_cm = pd.DataFrame(confusion_matrix(y_le, predict),\n",
    "                         index=[i for i in ['negative', 'neutral', 'positive']],\n",
    "                         columns=[i for i in ['negative', 'neutral', 'positive']])\n",
    "    if not LOAD_CHECKPOINT:\n",
    "        with open(path + \"results\" + ITER + \".txt\", \"w\") as text_file:\n",
    "            df_cm_string = df_cm.to_string(header=False, index=False)\n",
    "            text_file.write('Classification report:\\n')\n",
    "            text_file.write(classification_report(y_le, predict))\n",
    "            text_file.write(f'\\nAccuracy: {accuracy_score(y_le, predict): >43}\\n')\n",
    "            text_file.write(f'Accuracy from evaluation: {result[1]: >27}\\n')\n",
    "            text_file.write('\\nConfusion matrix:\\n')\n",
    "            text_file.write(df_cm_string)\n",
    "    plt.figure(figsize=(10,7))\n",
    "    plt.title(CHECKPOINT_PREFIX[:-1])\n",
    "    hm = sn.heatmap(df_cm, annot=True, fmt='g', cmap=\"Blues\")\n",
    "    hm.set(ylabel='True label', xlabel='Predicted label')\n",
    "    if not LOAD_CHECKPOINT:\n",
    "        plt.savefig(path + 'accuracy-' + format(result[1], \".4f\") + ITER + '.jpg')\n",
    "    plt.show()\n",
    "    \n",
    "#evaluate(predict, result, y_test_labels)"
   ],
   "metadata": {
    "collapsed": false,
    "pycharm": {
     "name": "#%%\n"
    }
   }
  },
  {
   "cell_type": "code",
   "execution_count": null,
   "outputs": [],
   "source": [
    "import winsound\n",
    "\n",
    "for i in range(1,10):\n",
    "  try: \n",
    "    ITER = str(i)\n",
    "    print(\"Iteration \", ITER)\n",
    "    history, result, predict = fit_model()\n",
    "    evaluate(predict, result, y_test_labels)\n",
    "  except Exception as e:\n",
    "    for i in range(1, 5):\n",
    "      winsound.Beep(100 + i * 100, 400)\n",
    "\n",
    "\n",
    "for i in range(5, 12):\n",
    "  winsound.Beep(100 + i * 100, 400)"
   ],
   "metadata": {
    "collapsed": false,
    "pycharm": {
     "name": "#%%\n"
    }
   }
  },
  {
   "cell_type": "code",
   "execution_count": 16,
   "metadata": {
    "scrolled": false
   },
   "outputs": [],
   "source": [
    "import winsound\n",
    "\n",
    "for i in range(1,10):\n",
    "  try: \n",
    "    ITER = str(i)\n",
    "    print(\"Iteration \", ITER)\n",
    "    history, result, predict = fit_model()\n",
    "    evaluate(predict, result, y_test_labels)\n",
    "  except Exception as e:\n",
    "    for i in range(1, 5):\n",
    "      winsound.Beep(100 + i * 100, 400)\n",
    "\n",
    "\n",
    "for i in range(5, 12):\n",
    "  winsound.Beep(100 + i * 100, 400)"
   ]
  },
  {
   "cell_type": "code",
   "execution_count": 17,
   "metadata": {
    "scrolled": true
   },
   "outputs": [],
   "source": [
    "le = LabelEncoder()\n",
    "\n",
    "def evaluate(predict, result, y):\n",
    "    y_le = le.fit_transform(y[:TEST_PROCESSED_MAX_DOCUMENTS])\n",
    "    print('Classification report:')\n",
    "    print(classification_report(y_le, predict))\n",
    "    print(f'Accuracy: {accuracy_score(y_le, predict): >43}')\n",
    "    print(f'Accuracy from evaluation: {result[1]: >27}')\n",
    "    print('Confusion matrix:')\n",
    "    df_cm = pd.DataFrame(confusion_matrix(y_le, predict),\n",
    "                         index=[i for i in ['negative', 'neutral', 'positive']],\n",
    "                         columns=[i for i in ['negative', 'neutral', 'positive']])\n",
    "    if not LOAD_CHECKPOINT:\n",
    "        with open(path + \"results\" + ITER + \".txt\", \"w\") as text_file:\n",
    "            df_cm_string = df_cm.to_string(header=False, index=False)\n",
    "            text_file.write('Classification report:\\n')\n",
    "            text_file.write(classification_report(y_le, predict))\n",
    "            text_file.write(f'\\nAccuracy: {accuracy_score(y_le, predict): >43}\\n')\n",
    "            text_file.write(f'Accuracy from evaluation: {result[1]: >27}\\n')\n",
    "            text_file.write('\\nConfusion matrix:\\n')\n",
    "            text_file.write(df_cm_string)\n",
    "    plt.figure(figsize=(10,7))\n",
    "    plt.title(CHECKPOINT_PREFIX[:-1])\n",
    "    hm = sn.heatmap(df_cm, annot=True, fmt='g', cmap=\"Blues\")\n",
    "    hm.set(ylabel='True label', xlabel='Predicted label')\n",
    "    if not LOAD_CHECKPOINT:\n",
    "        plt.savefig(path + 'accuracy-' + format(result[1], \".4f\") + ITER + '.jpg')\n",
    "    plt.show()\n",
    "    \n",
    "#evaluate(predict, result, y_test_labels)"
   ]
  },
  {
   "cell_type": "code",
   "execution_count": 18,
   "metadata": {},
   "outputs": [
    {
     "name": "stdout",
     "output_type": "stream",
     "text": [
      "Iteration  1\n",
      "{0: 0.8550452983442675, 1: 0.8016988869361453, 2: 1.7149122807017543}\n",
      "Epoch 1/30\n",
      "172/172 [==============================] - 134s 712ms/step - loss: 0.5928 - accuracy: 0.7567 - val_loss: 0.3658 - val_accuracy: 0.8713\n",
      "Epoch 2/30\n",
      "172/172 [==============================] - 148s 861ms/step - loss: 0.3286 - accuracy: 0.8856 - val_loss: 0.4036 - val_accuracy: 0.8684\n",
      "Epoch 3/30\n",
      "172/172 [==============================] - 155s 901ms/step - loss: 0.2467 - accuracy: 0.9127 - val_loss: 0.3665 - val_accuracy: 0.8830\n",
      "Restoring model weights from the end of the best epoch.\n",
      "Epoch 00003: early stopping\n",
      "3\n",
      "Epoch 1  : loss: 0.5928 - accuracy: 0.7567 - val_loss: 0.3658 - val_accuracy: 0.8713\n",
      "Epoch 2  : loss: 0.3286 - accuracy: 0.8856 - val_loss: 0.4036 - val_accuracy: 0.8684\n",
      "Epoch 3  : loss: 0.2467 - accuracy: 0.9127 - val_loss: 0.3665 - val_accuracy: 0.8830\n",
      "11/11 [==============================] - 7s 602ms/step - loss: 0.3877 - accuracy: 0.8571\n",
      "Classification report:\n",
      "              precision    recall  f1-score   support\n",
      "\n",
      "           0       0.86      0.86      0.86       136\n",
      "           1       0.93      0.82      0.87       146\n",
      "           2       0.73      0.93      0.82        61\n",
      "\n",
      "    accuracy                           0.86       343\n",
      "   macro avg       0.84      0.87      0.85       343\n",
      "weighted avg       0.87      0.86      0.86       343\n",
      "\n",
      "Accuracy:                          0.8571428571428571\n",
      "Accuracy from evaluation:          0.8571428656578064\n",
      "Confusion matrix:\n"
     ]
    },
    {
     "data": {
      "image/png": "[encoded data removed]",
      "text/plain": [
       "<Figure size 720x504 with 2 Axes>"
      ]
     },
     "metadata": {
      "needs_background": "light"
     },
     "output_type": "display_data"
    },
    {
     "name": "stdout",
     "output_type": "stream",
     "text": [
      "Iteration  2\n",
      "{0: 0.8550452983442675, 1: 0.8016988869361453, 2: 1.7149122807017543}\n",
      "Epoch 1/30\n",
      "172/172 [==============================] - 155s 904ms/step - loss: 0.3315 - accuracy: 0.8758 - val_loss: 0.3432 - val_accuracy: 0.8743\n",
      "Epoch 2/30\n",
      "172/172 [==============================] - 159s 928ms/step - loss: 0.2453 - accuracy: 0.9116 - val_loss: 0.3604 - val_accuracy: 0.8889\n",
      "Epoch 3/30\n",
      "172/172 [==============================] - 158s 920ms/step - loss: 0.2270 - accuracy: 0.9167 - val_loss: 0.3857 - val_accuracy: 0.8743\n",
      "Restoring model weights from the end of the best epoch.\n",
      "Epoch 00003: early stopping\n",
      "3\n",
      "Epoch 1  : loss: 0.3315 - accuracy: 0.8758 - val_loss: 0.3432 - val_accuracy: 0.8743\n",
      "Epoch 2  : loss: 0.2453 - accuracy: 0.9116 - val_loss: 0.3604 - val_accuracy: 0.8889\n",
      "Epoch 3  : loss: 0.2270 - accuracy: 0.9167 - val_loss: 0.3857 - val_accuracy: 0.8743\n",
      "11/11 [==============================] - 6s 577ms/step - loss: 0.3687 - accuracy: 0.8950\n",
      "Classification report:\n",
      "              precision    recall  f1-score   support\n",
      "\n",
      "           0       0.89      0.94      0.91       136\n",
      "           1       0.93      0.86      0.89       146\n",
      "           2       0.84      0.89      0.86        61\n",
      "\n",
      "    accuracy                           0.90       343\n",
      "   macro avg       0.89      0.89      0.89       343\n",
      "weighted avg       0.90      0.90      0.89       343\n",
      "\n",
      "Accuracy:                          0.8950437317784257\n",
      "Accuracy from evaluation:          0.8950437307357788\n",
      "Confusion matrix:\n"
     ]
    },
    {
     "data": {
      "image/png": "[encoded data removed]",
      "text/plain": [
       "<Figure size 720x504 with 2 Axes>"
      ]
     },
     "metadata": {
      "needs_background": "light"
     },
     "output_type": "display_data"
    },
    {
     "name": "stdout",
     "output_type": "stream",
     "text": [
      "Iteration  3\n",
      "{0: 0.8550452983442675, 1: 0.8016988869361453, 2: 1.7149122807017543}\n",
      "Epoch 1/30\n",
      "172/172 [==============================] - 157s 915ms/step - loss: 0.2555 - accuracy: 0.9087 - val_loss: 0.2827 - val_accuracy: 0.8801\n",
      "Epoch 2/30\n",
      "172/172 [==============================] - 161s 936ms/step - loss: 0.2219 - accuracy: 0.9218 - val_loss: 0.4057 - val_accuracy: 0.8713\n",
      "Epoch 3/30\n",
      "172/172 [==============================] - 156s 907ms/step - loss: 0.1825 - accuracy: 0.9342 - val_loss: 0.5057 - val_accuracy: 0.8596\n",
      "Restoring model weights from the end of the best epoch.\n",
      "Epoch 00003: early stopping\n",
      "3\n",
      "Epoch 1  : loss: 0.2555 - accuracy: 0.9087 - val_loss: 0.2827 - val_accuracy: 0.8801\n",
      "Epoch 2  : loss: 0.2219 - accuracy: 0.9218 - val_loss: 0.4057 - val_accuracy: 0.8713\n",
      "Epoch 3  : loss: 0.1825 - accuracy: 0.9342 - val_loss: 0.5057 - val_accuracy: 0.8596\n",
      "11/11 [==============================] - 6s 571ms/step - loss: 0.3861 - accuracy: 0.8630\n",
      "Classification report:\n",
      "              precision    recall  f1-score   support\n",
      "\n",
      "           0       0.85      0.90      0.88       136\n",
      "           1       0.87      0.84      0.85       146\n",
      "           2       0.88      0.82      0.85        61\n",
      "\n",
      "    accuracy                           0.86       343\n",
      "   macro avg       0.87      0.86      0.86       343\n",
      "weighted avg       0.86      0.86      0.86       343\n",
      "\n",
      "Accuracy:                          0.8629737609329446\n",
      "Accuracy from evaluation:          0.8629737496376038\n",
      "Confusion matrix:\n"
     ]
    },
    {
     "data": {
      "image/png": "[encoded data removed]",
      "text/plain": [
       "<Figure size 720x504 with 2 Axes>"
      ]
     },
     "metadata": {
      "needs_background": "light"
     },
     "output_type": "display_data"
    },
    {
     "name": "stdout",
     "output_type": "stream",
     "text": [
      "Iteration  4\n",
      "{0: 0.8550452983442675, 1: 0.8016988869361453, 2: 1.7149122807017543}\n",
      "Epoch 1/30\n",
      "172/172 [==============================] - 159s 926ms/step - loss: 0.1910 - accuracy: 0.9331 - val_loss: 0.3674 - val_accuracy: 0.8772\n",
      "Epoch 2/30\n",
      "172/172 [==============================] - 155s 904ms/step - loss: 0.1708 - accuracy: 0.9342 - val_loss: 0.3626 - val_accuracy: 0.8567\n",
      "Epoch 3/30\n",
      "172/172 [==============================] - 157s 911ms/step - loss: 0.1536 - accuracy: 0.9364 - val_loss: 0.4153 - val_accuracy: 0.8772\n",
      "Epoch 4/30\n",
      "172/172 [==============================] - 154s 896ms/step - loss: 0.1376 - accuracy: 0.9445 - val_loss: 0.4376 - val_accuracy: 0.8626\n",
      "Restoring model weights from the end of the best epoch.\n",
      "Epoch 00004: early stopping\n",
      "4\n",
      "Epoch 1  : loss: 0.1910 - accuracy: 0.9331 - val_loss: 0.3674 - val_accuracy: 0.8772\n",
      "Epoch 2  : loss: 0.1708 - accuracy: 0.9342 - val_loss: 0.3626 - val_accuracy: 0.8567\n",
      "Epoch 3  : loss: 0.1536 - accuracy: 0.9364 - val_loss: 0.4153 - val_accuracy: 0.8772\n",
      "Epoch 4  : loss: 0.1376 - accuracy: 0.9445 - val_loss: 0.4376 - val_accuracy: 0.8626\n",
      "11/11 [==============================] - 7s 637ms/step - loss: 0.4506 - accuracy: 0.8367\n",
      "Classification report:\n",
      "              precision    recall  f1-score   support\n",
      "\n",
      "           0       0.85      0.85      0.85       136\n",
      "           1       0.83      0.83      0.83       146\n",
      "           2       0.82      0.84      0.83        61\n",
      "\n",
      "    accuracy                           0.84       343\n",
      "   macro avg       0.83      0.84      0.84       343\n",
      "weighted avg       0.84      0.84      0.84       343\n",
      "\n",
      "Accuracy:                          0.8367346938775511\n",
      "Accuracy from evaluation:          0.8367347121238708\n",
      "Confusion matrix:\n"
     ]
    },
    {
     "data": {
      "image/png": "[encoded data removed]",
      "text/plain": [
       "<Figure size 720x504 with 2 Axes>"
      ]
     },
     "metadata": {
      "needs_background": "light"
     },
     "output_type": "display_data"
    },
    {
     "name": "stdout",
     "output_type": "stream",
     "text": [
      "Iteration  5\n",
      "{0: 0.8550452983442675, 1: 0.8016988869361453, 2: 1.7149122807017543}\n",
      "Epoch 1/30\n",
      "172/172 [==============================] - 153s 891ms/step - loss: 0.1505 - accuracy: 0.9404 - val_loss: 0.3516 - val_accuracy: 0.8772\n",
      "Epoch 2/30\n",
      "172/172 [==============================] - 157s 911ms/step - loss: 0.1339 - accuracy: 0.9503 - val_loss: 0.4350 - val_accuracy: 0.8772\n",
      "Epoch 3/30\n",
      "172/172 [==============================] - 155s 899ms/step - loss: 0.1182 - accuracy: 0.9488 - val_loss: 0.4626 - val_accuracy: 0.8801\n",
      "Restoring model weights from the end of the best epoch.\n",
      "Epoch 00003: early stopping\n",
      "3\n",
      "Epoch 1  : loss: 0.1505 - accuracy: 0.9404 - val_loss: 0.3516 - val_accuracy: 0.8772\n",
      "Epoch 2  : loss: 0.1339 - accuracy: 0.9503 - val_loss: 0.4350 - val_accuracy: 0.8772\n",
      "Epoch 3  : loss: 0.1182 - accuracy: 0.9488 - val_loss: 0.4626 - val_accuracy: 0.8801\n",
      "11/11 [==============================] - 7s 611ms/step - loss: 0.4910 - accuracy: 0.8630\n",
      "Classification report:\n",
      "              precision    recall  f1-score   support\n",
      "\n",
      "           0       0.88      0.88      0.88       136\n",
      "           1       0.87      0.86      0.87       146\n",
      "           2       0.80      0.84      0.82        61\n",
      "\n",
      "    accuracy                           0.86       343\n",
      "   macro avg       0.85      0.86      0.85       343\n",
      "weighted avg       0.86      0.86      0.86       343\n",
      "\n",
      "Accuracy:                          0.8629737609329446\n",
      "Accuracy from evaluation:          0.8629737496376038\n",
      "Confusion matrix:\n"
     ]
    },
    {
     "data": {
      "image/png": "[encoded data removed]",
      "text/plain": [
       "<Figure size 720x504 with 2 Axes>"
      ]
     },
     "metadata": {
      "needs_background": "light"
     },
     "output_type": "display_data"
    },
    {
     "name": "stdout",
     "output_type": "stream",
     "text": [
      "Iteration  6\n",
      "{0: 0.8550452983442675, 1: 0.8016988869361453, 2: 1.7149122807017543}\n",
      "Epoch 1/30\n",
      "172/172 [==============================] - 3071s 18s/step - loss: 0.1507 - accuracy: 0.9470 - val_loss: 0.5010 - val_accuracy: 0.8655\n",
      "Epoch 2/30\n",
      "172/172 [==============================] - 99s 577ms/step - loss: 0.1815 - accuracy: 0.9324 - val_loss: 0.3519 - val_accuracy: 0.8743\n",
      "Epoch 3/30\n",
      "172/172 [==============================] - 105s 612ms/step - loss: 0.1384 - accuracy: 0.9445 - val_loss: 0.5630 - val_accuracy: 0.8567\n",
      "Epoch 4/30\n",
      "172/172 [==============================] - 114s 661ms/step - loss: 0.1081 - accuracy: 0.9565 - val_loss: 0.5878 - val_accuracy: 0.8772\n",
      "Restoring model weights from the end of the best epoch.\n",
      "Epoch 00004: early stopping\n",
      "4\n",
      "Epoch 1  : loss: 0.1507 - accuracy: 0.9470 - val_loss: 0.5010 - val_accuracy: 0.8655\n",
      "Epoch 2  : loss: 0.1815 - accuracy: 0.9324 - val_loss: 0.3519 - val_accuracy: 0.8743\n",
      "Epoch 3  : loss: 0.1384 - accuracy: 0.9445 - val_loss: 0.5630 - val_accuracy: 0.8567\n",
      "Epoch 4  : loss: 0.1081 - accuracy: 0.9565 - val_loss: 0.5878 - val_accuracy: 0.8772\n",
      "11/11 [==============================] - 4s 403ms/step - loss: 0.4380 - accuracy: 0.8659\n",
      "Classification report:\n",
      "              precision    recall  f1-score   support\n",
      "\n",
      "           0       0.85      0.91      0.88       136\n",
      "           1       0.87      0.85      0.86       146\n",
      "           2       0.89      0.80      0.84        61\n",
      "\n",
      "    accuracy                           0.87       343\n",
      "   macro avg       0.87      0.85      0.86       343\n",
      "weighted avg       0.87      0.87      0.87       343\n",
      "\n",
      "Accuracy:                          0.8658892128279884\n",
      "Accuracy from evaluation:          0.8658891916275024\n",
      "Confusion matrix:\n"
     ]
    },
    {
     "data": {
      "image/png": "[encoded data removed]",
      "text/plain": [
       "<Figure size 720x504 with 2 Axes>"
      ]
     },
     "metadata": {
      "needs_background": "light"
     },
     "output_type": "display_data"
    },
    {
     "name": "stdout",
     "output_type": "stream",
     "text": [
      "Iteration  7\n",
      "{0: 0.8550452983442675, 1: 0.8016988869361453, 2: 1.7149122807017543}\n",
      "Epoch 1/30\n",
      "172/172 [==============================] - 120s 699ms/step - loss: 0.1232 - accuracy: 0.9510 - val_loss: 0.4941 - val_accuracy: 0.8480\n",
      "Epoch 2/30\n",
      "172/172 [==============================] - 126s 733ms/step - loss: 0.1098 - accuracy: 0.9529 - val_loss: 0.4534 - val_accuracy: 0.8801\n",
      "Epoch 3/30\n",
      "172/172 [==============================] - 128s 745ms/step - loss: 0.1213 - accuracy: 0.9478 - val_loss: 0.5238 - val_accuracy: 0.8567\n",
      "Epoch 4/30\n",
      "172/172 [==============================] - 131s 764ms/step - loss: 0.1074 - accuracy: 0.9558 - val_loss: 0.5729 - val_accuracy: 0.8626\n",
      "Restoring model weights from the end of the best epoch.\n",
      "Epoch 00004: early stopping\n",
      "4\n",
      "Epoch 1  : loss: 0.1232 - accuracy: 0.9510 - val_loss: 0.4941 - val_accuracy: 0.8480\n",
      "Epoch 2  : loss: 0.1098 - accuracy: 0.9529 - val_loss: 0.4534 - val_accuracy: 0.8801\n",
      "Epoch 3  : loss: 0.1213 - accuracy: 0.9478 - val_loss: 0.5238 - val_accuracy: 0.8567\n",
      "Epoch 4  : loss: 0.1074 - accuracy: 0.9558 - val_loss: 0.5729 - val_accuracy: 0.8626\n",
      "11/11 [==============================] - 6s 513ms/step - loss: 0.5718 - accuracy: 0.8542\n",
      "Classification report:\n",
      "              precision    recall  f1-score   support\n",
      "\n",
      "           0       0.82      0.91      0.86       136\n",
      "           1       0.90      0.82      0.86       146\n",
      "           2       0.83      0.82      0.83        61\n",
      "\n",
      "    accuracy                           0.85       343\n",
      "   macro avg       0.85      0.85      0.85       343\n",
      "weighted avg       0.86      0.85      0.85       343\n",
      "\n",
      "Accuracy:                          0.8542274052478134\n",
      "Accuracy from evaluation:          0.8542274236679077\n",
      "Confusion matrix:\n"
     ]
    },
    {
     "data": {
      "image/png": "[encoded data removed]",
      "text/plain": [
       "<Figure size 720x504 with 2 Axes>"
      ]
     },
     "metadata": {
      "needs_background": "light"
     },
     "output_type": "display_data"
    },
    {
     "name": "stdout",
     "output_type": "stream",
     "text": [
      "Iteration  8\n",
      "{0: 0.8550452983442675, 1: 0.8016988869361453, 2: 1.7149122807017543}\n",
      "Epoch 1/30\n",
      "172/172 [==============================] - 132s 770ms/step - loss: 0.1080 - accuracy: 0.9554 - val_loss: 0.6699 - val_accuracy: 0.8129\n",
      "Epoch 2/30\n",
      "172/172 [==============================] - 136s 790ms/step - loss: 0.1236 - accuracy: 0.9412 - val_loss: 0.5445 - val_accuracy: 0.8772\n",
      "Epoch 3/30\n",
      "172/172 [==============================] - 137s 800ms/step - loss: 0.1151 - accuracy: 0.9514 - val_loss: 0.5844 - val_accuracy: 0.8655\n",
      "Epoch 4/30\n",
      "172/172 [==============================] - 141s 818ms/step - loss: 0.1385 - accuracy: 0.9445 - val_loss: 0.6704 - val_accuracy: 0.8480\n",
      "Restoring model weights from the end of the best epoch.\n",
      "Epoch 00004: early stopping\n",
      "4\n",
      "Epoch 1  : loss: 0.1080 - accuracy: 0.9554 - val_loss: 0.6699 - val_accuracy: 0.8129\n",
      "Epoch 2  : loss: 0.1236 - accuracy: 0.9412 - val_loss: 0.5445 - val_accuracy: 0.8772\n",
      "Epoch 3  : loss: 0.1151 - accuracy: 0.9514 - val_loss: 0.5844 - val_accuracy: 0.8655\n",
      "Epoch 4  : loss: 0.1385 - accuracy: 0.9445 - val_loss: 0.6704 - val_accuracy: 0.8480\n",
      "11/11 [==============================] - 6s 546ms/step - loss: 0.8243 - accuracy: 0.8659\n",
      "Classification report:\n",
      "              precision    recall  f1-score   support\n",
      "\n",
      "           0       0.87      0.90      0.89       136\n",
      "           1       0.87      0.86      0.87       146\n",
      "           2       0.83      0.80      0.82        61\n",
      "\n",
      "    accuracy                           0.87       343\n",
      "   macro avg       0.86      0.85      0.86       343\n",
      "weighted avg       0.87      0.87      0.87       343\n",
      "\n",
      "Accuracy:                          0.8658892128279884\n",
      "Accuracy from evaluation:          0.8658891916275024\n",
      "Confusion matrix:\n"
     ]
    },
    {
     "data": {
      "image/png": "[encoded data removed]",
      "text/plain": [
       "<Figure size 720x504 with 2 Axes>"
      ]
     },
     "metadata": {
      "needs_background": "light"
     },
     "output_type": "display_data"
    },
    {
     "name": "stdout",
     "output_type": "stream",
     "text": [
      "Iteration  9\n",
      "{0: 0.8550452983442675, 1: 0.8016988869361453, 2: 1.7149122807017543}\n",
      "Epoch 1/30\n",
      "172/172 [==============================] - 141s 823ms/step - loss: 0.1087 - accuracy: 0.9518 - val_loss: 0.7730 - val_accuracy: 0.8480\n",
      "\n",
      "Epoch 00001: saving model to checkpoints/balanced_bert/restore_best_weight_25_semleges\\cp.ckpt\n",
      "Epoch 2/30\n",
      "172/172 [==============================] - 133s 772ms/step - loss: 0.1216 - accuracy: 0.9554 - val_loss: 0.6935 - val_accuracy: 0.8304\n",
      "\n",
      "Epoch 00002: saving model to checkpoints/balanced_bert/restore_best_weight_25_semleges\\cp.ckpt\n",
      "Epoch 3/30\n",
      "172/172 [==============================] - 132s 768ms/step - loss: 0.1237 - accuracy: 0.9488 - val_loss: 0.6220 - val_accuracy: 0.8801\n",
      "\n",
      "Epoch 00003: saving model to checkpoints/balanced_bert/restore_best_weight_25_semleges\\cp.ckpt\n",
      "Epoch 4/30\n",
      "172/172 [==============================] - 134s 783ms/step - loss: 0.0961 - accuracy: 0.9521 - val_loss: 0.6291 - val_accuracy: 0.8684\n",
      "\n",
      "Epoch 00004: saving model to checkpoints/balanced_bert/restore_best_weight_25_semleges\\cp.ckpt\n",
      "Epoch 5/30\n",
      "172/172 [==============================] - 133s 773ms/step - loss: 0.0726 - accuracy: 0.9638 - val_loss: 0.8288 - val_accuracy: 0.8567\n",
      "Restoring model weights from the end of the best epoch.\n",
      "\n",
      "Epoch 00005: saving model to checkpoints/balanced_bert/restore_best_weight_25_semleges\\cp.ckpt\n",
      "Epoch 00005: early stopping\n",
      "5\n",
      "Epoch 1  : loss: 0.1087 - accuracy: 0.9518 - val_loss: 0.7730 - val_accuracy: 0.8480\n",
      "Epoch 2  : loss: 0.1216 - accuracy: 0.9554 - val_loss: 0.6935 - val_accuracy: 0.8304\n",
      "Epoch 3  : loss: 0.1237 - accuracy: 0.9488 - val_loss: 0.6220 - val_accuracy: 0.8801\n",
      "Epoch 4  : loss: 0.0961 - accuracy: 0.9521 - val_loss: 0.6291 - val_accuracy: 0.8684\n",
      "Epoch 5  : loss: 0.0726 - accuracy: 0.9638 - val_loss: 0.8288 - val_accuracy: 0.8567\n",
      "11/11 [==============================] - 4s 366ms/step - loss: 0.8456 - accuracy: 0.8484\n",
      "Classification report:\n",
      "              precision    recall  f1-score   support\n",
      "\n",
      "           0       0.86      0.87      0.86       136\n",
      "           1       0.84      0.86      0.85       146\n",
      "           2       0.85      0.77      0.81        61\n",
      "\n",
      "    accuracy                           0.85       343\n",
      "   macro avg       0.85      0.83      0.84       343\n",
      "weighted avg       0.85      0.85      0.85       343\n",
      "\n",
      "Accuracy:                          0.8483965014577259\n",
      "Accuracy from evaluation:          0.8483964800834656\n",
      "Confusion matrix:\n"
     ]
    },
    {
     "data": {
      "image/png": "[encoded data removed]",
      "text/plain": [
       "<Figure size 720x504 with 2 Axes>"
      ]
     },
     "metadata": {
      "needs_background": "light"
     },
     "output_type": "display_data"
    }
   ],
   "source": [
    "import winsound\n",
    "\n",
    "for i in range(1,10):\n",
    "  try: \n",
    "    ITER = str(i)\n",
    "    print(\"Iteration \", ITER)\n",
    "    history, result, predict = fit_model()\n",
    "    evaluate(predict, result, y_test_labels)\n",
    "  except Exception as e:\n",
    "    for i in range(1, 5):\n",
    "      winsound.Beep(100 + i * 100, 400)\n",
    "\n",
    "\n",
    "for i in range(5, 12):\n",
    "  winsound.Beep(100 + i * 100, 400)"
   ]
  }
 ],
 "metadata": {
  "kernelspec": {
   "display_name": "Python 3 (ipykernel)",
   "language": "python",
   "name": "python3"
  },
  "language_info": {
   "codemirror_mode": {
    "name": "ipython",
    "version": 3
   },
   "file_extension": ".py",
   "mimetype": "text/x-python",
   "name": "python",
   "nbconvert_exporter": "python",
   "pygments_lexer": "ipython3",
   "version": "3.8.12"
  }
 },
 "nbformat": 4,
 "nbformat_minor": 1
}