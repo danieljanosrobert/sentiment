{
 "cells": [
  {
   "cell_type": "code",
   "execution_count": 1,
   "metadata": {},
   "outputs": [],
   "source": [
    "import pandas as pd\n",
    "import re\n",
    "import numpy as np\n",
    "import matplotlib.pyplot as plt\n",
    "import seaborn as sn\n",
    "import os\n",
    "import re\n",
    "import json\n",
    "\n",
    "from sklearn.utils import shuffle\n",
    "from sklearn.model_selection import train_test_split\n",
    "from tensorflow.keras.utils import to_categorical\n",
    "from tensorflow.python.keras.callbacks import EarlyStopping\n",
    "\n",
    "from sklearn.metrics import confusion_matrix, classification_report, accuracy_score\n",
    "\n",
    "import tensorflow as tf\n",
    "import tensorflow_addons as tfa\n",
    "\n",
    "import tensorflow_hub as hub\n",
    "import tensorflow_datasets as tfds\n",
    "\n",
    "from official.modeling import tf_utils\n",
    "from official import nlp\n",
    "from official.nlp import bert\n",
    "\n",
    "import nltk\n",
    "from nltk import SnowballStemmer\n",
    "from nltk.corpus import stopwords\n",
    "\n",
    "import official.nlp.optimization\n",
    "import official.nlp.bert.bert_models\n",
    "import official.nlp.bert.configs\n",
    "import official.nlp.bert.run_classifier\n",
    "import official.nlp.bert.tokenization\n",
    "import official.nlp.data.classifier_data_lib\n",
    "import official.nlp.modeling.losses\n",
    "import official.nlp.modeling.models\n",
    "import official.nlp.modeling.networks\n",
    "\n",
    "\n",
    "from sklearn.utils import shuffle"
   ]
  },
  {
   "cell_type": "code",
   "execution_count": 2,
   "metadata": {
    "pycharm": {
     "name": "#%%\n"
    }
   },
   "outputs": [],
   "source": [
    "SHUFFLE_RANDOM_STATE = 42\n",
    "TRAIN_RANDOM_STATE = 42\n",
    "SGD_RANDOM_STATE = 42\n",
    "\n",
    "SGD_MAX_ITER = 1000\n",
    "\n",
    "TEXT = 'Sentence'\n",
    "FILTER = 'Entity'\n",
    "START_TOKEN = 'START'\n",
    "TOKEN_LEN = 'LEN'\n",
    "Y_HEADER = 'LABEL'\n",
    "LABELS = {\n",
    "    \"NEG\": 0,\n",
    "    \"SEM\": 1,\n",
    "    \"POZ\": 2\n",
    "}\n",
    "\n",
    "EKEZET_VALTAS_RAGNAL = {\n",
    "    'a': 'á',\n",
    "    'e': 'é'\n",
    "}"
   ]
  },
  {
   "cell_type": "code",
   "execution_count": 3,
   "metadata": {
    "pycharm": {
     "name": "#%%\n"
    }
   },
   "outputs": [],
   "source": [
    "# Text processing\n",
    "\n",
    "def extend_context(text, context, left_index, right_index):\n",
    "    # TODO: Mi van, ha a neveket sem vesszuk bele?\n",
    "    global fix\n",
    "    if type(text) != list:\n",
    "        text = text.split()\n",
    "    start_size = 0\n",
    "    while start_size < 10:\n",
    "        if left_index > 0:\n",
    "            left_index -= 1\n",
    "            context.insert(0, text[left_index])\n",
    "            if len(text[left_index]) > 1:\n",
    "                start_size += 1\n",
    "        if right_index < len(text) -1:\n",
    "            right_index += 1\n",
    "            context.append(text[right_index])\n",
    "            if len(text[right_index]) > 1:\n",
    "                start_size += 1\n",
    "        if left_index <= 0 and right_index >= len(text) -1:\n",
    "            break\n",
    "    return ' '.join(context)\n",
    "\n",
    "def contextualize(index, debug = False):\n",
    "    global fix\n",
    "    text = ' '.join([i for i in re.split(r'( - |(?![%.-])\\W)|(-e[\\n ])', dataset[TEXT][index]) if i])\n",
    "    context_start_index = int(dataset[START_TOKEN][index] - 1)\n",
    "    context_stop_index = int(context_start_index+dataset[TOKEN_LEN][index] - 1)\n",
    "\n",
    "    context_name_tokens = \\\n",
    "        [t for t in text\n",
    "                        .split()[context_start_index:context_stop_index+1]]\n",
    "\n",
    "    context_name = ' '.join(context_name_tokens)\n",
    "    context_filter = dataset[FILTER][index]\n",
    "\n",
    "    # Ha ragozunk, akkor a-bol á lesz pl Csaba -> Csabával\n",
    "    if len(context_name) >= len(context_filter) \\\n",
    "            and context_filter[len(context_filter)-1] in EKEZET_VALTAS_RAGNAL\\\n",
    "            and EKEZET_VALTAS_RAGNAL.get(context_filter[len(context_filter)-1]) == context_name[len(context_filter)-1]:\n",
    "        context_filter = context_filter[:-1] + context_name[len(context_filter)-1]\n",
    "\n",
    "    context_list = context_name_tokens\n",
    "    left_index = context_start_index\n",
    "    right_index = context_stop_index\n",
    "    context = extend_context(text, context_list, left_index, right_index)\n",
    "    return context"
   ]
  },
  {
   "cell_type": "code",
   "execution_count": 4,
   "metadata": {
    "pycharm": {
     "name": "#%%\n"
    }
   },
   "outputs": [
    {
     "name": "stdout",
     "output_type": "stream",
     "text": [
      "<class 'pandas.core.frame.DataFrame'>\n",
      "Int64Index: 7700 entries, 3856 to 7270\n",
      "Data columns (total 7 columns):\n",
      " #   Column    Non-Null Count  Dtype \n",
      "---  ------    --------------  ----- \n",
      " 0   ID        7700 non-null   int64 \n",
      " 1   START     7700 non-null   int64 \n",
      " 2   LEN       7700 non-null   int64 \n",
      " 3   Entity    7700 non-null   object\n",
      " 4   Sentence  7700 non-null   object\n",
      " 5   URL       7700 non-null   object\n",
      " 6   LABEL     7700 non-null   object\n",
      "dtypes: int64(3), object(4)\n",
      "memory usage: 481.2+ KB\n",
      "7700\n"
     ]
    }
   ],
   "source": [
    "\n",
    "# Load and set up data\n",
    "\n",
    "dataset = pd.read_csv('db/train.csv', sep=';')\n",
    "dataset = shuffle(dataset, random_state=SHUFFLE_RANDOM_STATE)\n",
    "dataset.info()\n",
    "\n",
    "X_list = []\n",
    "print(len(dataset.index))\n",
    "for i  in range(len(dataset.index)):\n",
    "    X_list.append(contextualize(i))\n",
    "\n",
    "X = np.asarray(X_list)\n",
    "y = dataset[Y_HEADER].values\n",
    "\n",
    "\n",
    "X_train, X_test, y_train, y_test = train_test_split(X, y, train_size=0.8, random_state=TRAIN_RANDOM_STATE)"
   ]
  },
  {
   "cell_type": "code",
   "execution_count": 5,
   "metadata": {
    "pycharm": {
     "name": "#%%\n"
    }
   },
   "outputs": [
    {
     "name": "stdout",
     "output_type": "stream",
     "text": [
      "dict_values([1070, 533, 4557])\n"
     ]
    },
    {
     "data": {
      "image/png": "[encoded data removed]",
      "text/plain": [
       "<Figure size 432x288 with 1 Axes>"
      ]
     },
     "metadata": {
      "needs_background": "light"
     },
     "output_type": "display_data"
    },
    {
     "name": "stdout",
     "output_type": "stream",
     "text": [
      "dict_values([263, 130, 1147])\n"
     ]
    },
    {
     "data": {
      "image/png": "[encoded data removed]",
      "text/plain": [
       "<Figure size 432x288 with 1 Axes>"
      ]
     },
     "metadata": {
      "needs_background": "light"
     },
     "output_type": "display_data"
    }
   ],
   "source": [
    "def plot_label_counts(y, title='y labels'):\n",
    "    unique, counts = np.unique(y, return_counts=True)\n",
    "    b = dict(zip(unique, counts))\n",
    "    b_values = [b['NEG'], b['SEM'], b['POZ']]\n",
    "    print(b.values())\n",
    "    plt.barh(range(len(b)), b_values, align='center', color=['pink', 'lightblue', 'lightgreen'])\n",
    "    y_values = [\"Negatív\", \"Semleges\", \"Pozitív\"]\n",
    "    y_axis = np.arange(0, 3, 1)\n",
    "    plt.yticks(y_axis, y_values)\n",
    "    plt.title(title)\n",
    "    plt.xlabel('Number of Samples in training Set')\n",
    "    plt.ylabel('Label')\n",
    "    ax = plt.gca()\n",
    "    for i, v in enumerate(b_values):\n",
    "        plt.text(ax.get_xlim()[1]/100, i, str(v), color='blue', fontweight='bold')\n",
    "    plt.show()\n",
    "\n",
    "plot_label_counts(y_train, 'Train eloszlas')\n",
    "plot_label_counts(y_test, 'Test eloszlas')"
   ]
  },
  {
   "cell_type": "code",
   "execution_count": 6,
   "metadata": {
    "pycharm": {
     "name": "#%%\n"
    }
   },
   "outputs": [],
   "source": [
    "def evaluate(predict, labels):\n",
    "    print('Classification report:')\n",
    "    print(classification_report(labels, predict))\n",
    "    print('Accuracy:')\n",
    "    print(accuracy_score(labels, predict))\n",
    "\n",
    "    print('Confusion matrix:')\n",
    "    df_cm = pd.DataFrame(confusion_matrix(labels, predict, labels=['POZ', 'SEM', 'NEG']),\n",
    "                         index=[i for i in ['POZ', 'SEM', 'NEG']],\n",
    "                         columns=[i for i in ['POZ', 'SEM', 'NEG']],)\n",
    "    plt.figure(figsize=(10,7))\n",
    "    hm = sn.heatmap(df_cm, annot=True, fmt='g', cmap=\"Blues\")\n",
    "    hm.set(ylabel='True label', xlabel='Predicted label')\n",
    "    plt.show()"
   ]
  },
  {
   "cell_type": "code",
   "execution_count": 7,
   "metadata": {
    "pycharm": {
     "name": "#%%\n"
    }
   },
   "outputs": [
    {
     "name": "stderr",
     "output_type": "stream",
     "text": [
      "[nltk_data] Downloading package stopwords to\n",
      "[nltk_data]     C:\\Users\\Daniel_Janos_Robert\\AppData\\Roaming\\nltk_data\n",
      "[nltk_data]     ...\n",
      "[nltk_data]   Package stopwords is already up-to-date!\n"
     ]
    },
    {
     "data": {
      "text/plain": [
       "True"
      ]
     },
     "execution_count": 7,
     "metadata": {},
     "output_type": "execute_result"
    }
   ],
   "source": [
    "nltk.download('stopwords')"
   ]
  },
  {
   "cell_type": "code",
   "execution_count": 8,
   "metadata": {
    "pycharm": {
     "name": "#%%\n"
    }
   },
   "outputs": [],
   "source": [
    "\n",
    "all_stopwords = []\n",
    "\n",
    "def create_corpus_by_dataset(sentences):\n",
    "    global all_stopwords\n",
    "    corpus = []\n",
    "    for sen in sentences:\n",
    "        sentence = re.sub('[^a-zA-ZöÖüÜóÓőŐúÚáÁűŰéÉíÍ]', ' ', sen)\n",
    "        sentence = sentence.lower().split()\n",
    "        all_stopwords = stopwords.words('hungarian')\n",
    "        whitelist = [\"ne\", \"nem\", \"se\", \"sem\"]\n",
    "        sentence = [word for word in sentence if (word not in all_stopwords or word in whitelist)\n",
    "                 and len(word) > 1]\n",
    "        ps = SnowballStemmer('hungarian')\n",
    "        sentence = [ps.stem(word) for word in sentence]\n",
    "        sentence = ' '.join(sentence)\n",
    "        corpus.append(sentence)\n",
    "\n",
    "    return corpus\n",
    "\n",
    "X_train_clean = create_corpus_by_dataset(X_train)\n",
    "X_test_clean = create_corpus_by_dataset(X_test)"
   ]
  },
  {
   "cell_type": "code",
   "execution_count": 9,
   "metadata": {
    "pycharm": {
     "name": "#%%\n"
    }
   },
   "outputs": [],
   "source": [
    "from sklearn.feature_extraction.text import CountVectorizer\n",
    "\n",
    "cv = CountVectorizer(min_df=0.002, ngram_range=(1,3)) #ngram (1-3)\n",
    "x_train_model = cv.fit_transform(X_train_clean)"
   ]
  },
  {
   "cell_type": "code",
   "execution_count": 10,
   "metadata": {
    "pycharm": {
     "name": "#%%\n"
    }
   },
   "outputs": [
    {
     "data": {
      "text/plain": [
       "SGDClassifier(class_weight='balanced', eta0=0.01, learning_rate='constant',\n",
       "              random_state=42)"
      ]
     },
     "execution_count": 10,
     "metadata": {},
     "output_type": "execute_result"
    }
   ],
   "source": [
    "from sklearn.linear_model import SGDClassifier\n",
    "classifier = SGDClassifier(random_state=SGD_RANDOM_STATE, max_iter=SGD_MAX_ITER, learning_rate='constant',\n",
    "                           eta0=0.01, class_weight='balanced')\n",
    "classifier.fit(x_train_model, y_train)"
   ]
  },
  {
   "cell_type": "code",
   "execution_count": 11,
   "metadata": {
    "pycharm": {
     "name": "#%%\n"
    }
   },
   "outputs": [
    {
     "name": "stdout",
     "output_type": "stream",
     "text": [
      "Classification report:\n",
      "              precision    recall  f1-score   support\n",
      "\n",
      "         NEG       0.19      0.09      0.12       263\n",
      "         POZ       0.13      0.13      0.13       130\n",
      "         SEM       0.75      0.84      0.79      1147\n",
      "\n",
      "    accuracy                           0.65      1540\n",
      "   macro avg       0.36      0.35      0.35      1540\n",
      "weighted avg       0.60      0.65      0.62      1540\n",
      "\n",
      "Accuracy:\n",
      "0.6519480519480519\n",
      "Confusion matrix:\n"
     ]
    },
    {
     "data": {
      "image/png": "[encoded data removed]",
      "text/plain": [
       "<Figure size 720x504 with 2 Axes>"
      ]
     },
     "metadata": {
      "needs_background": "light"
     },
     "output_type": "display_data"
    }
   ],
   "source": [
    "x_dev_model = cv.transform(X_test_clean)\n",
    "\n",
    "dev_predict = classifier.predict(x_dev_model)\n",
    "\n",
    "evaluate(dev_predict, y_test)"
   ]
  }
 ],
 "metadata": {
  "kernelspec": {
   "display_name": "Python 3 (ipykernel)",
   "language": "python",
   "name": "python3"
  },
  "language_info": {
   "codemirror_mode": {
    "name": "ipython",
    "version": 3
   },
   "file_extension": ".py",
   "mimetype": "text/x-python",
   "name": "python",
   "nbconvert_exporter": "python",
   "pygments_lexer": "ipython3",
   "version": "3.8.12"
  }
 },
 "nbformat": 4,
 "nbformat_minor": 1
}