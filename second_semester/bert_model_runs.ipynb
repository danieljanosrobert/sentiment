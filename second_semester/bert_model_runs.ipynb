{
 "cells": [
  {
   "cell_type": "code",
   "execution_count": 1,
   "metadata": {
    "pycharm": {
     "name": "#%%\n"
    }
   },
   "outputs": [],
   "source": [
    "# Imports\n",
    "\n",
    "import os\n",
    "\n",
    "import numpy as np\n",
    "import matplotlib.pyplot as plt\n",
    "import pandas as pd\n",
    "import random\n",
    "import re\n",
    "import json\n",
    "\n",
    "from sklearn.utils import shuffle\n",
    "from sklearn.model_selection import train_test_split\n",
    "from sklearn.utils import class_weight\n",
    "from sklearn.metrics import f1_score\n",
    "from sklearn.metrics import confusion_matrix, classification_report, accuracy_score \n",
    "from sklearn.preprocessing import LabelEncoder \n",
    "\n",
    "from tensorflow.keras.utils import to_categorical\n",
    "from tensorflow.python.keras.callbacks import EarlyStopping\n",
    "\n",
    "import tensorflow as tf\n",
    "import tensorflow_addons as tfa\n",
    "\n",
    "import seaborn as sn\n",
    "\n",
    "from nltk.corpus import stopwords\n",
    "\n",
    "import pickle\n",
    "\n",
    "import tensorflow_hub as hub\n",
    "import tensorflow_datasets as tfds\n",
    "\n",
    "from official.modeling import tf_utils\n",
    "from official import nlp\n",
    "from official.nlp import bert\n",
    "\n",
    "import official.nlp.optimization\n",
    "import official.nlp.bert.bert_models\n",
    "import official.nlp.bert.configs\n",
    "import official.nlp.bert.run_classifier\n",
    "import official.nlp.bert.tokenization\n",
    "import official.nlp.data.classifier_data_lib\n",
    "import official.nlp.modeling.losses\n",
    "import official.nlp.modeling.models\n",
    "import official.nlp.modeling.networks\n",
    "\n",
    "from keras import backend as K\n",
    "\n",
    "# BERT model, tokenizer\n",
    "from tensorflow.python.keras.layers import Flatten\n",
    "\n",
    "from transformers import TFBertForSequenceClassification, TFAutoModel , AutoTokenizer"
   ]
  },
  {
   "cell_type": "code",
   "execution_count": 2,
   "metadata": {
    "pycharm": {
     "name": "#%%\n"
    }
   },
   "outputs": [],
   "source": [
    "# Constants\n",
    "\n",
    "# Specialis karakterekkel a maximalis kodolt szoveg max hossza\n",
    "SEED = 42\n",
    "\n",
    "SHUFFLE_RANDOM_STATE = SEED\n",
    "TRAIN_RANDOM_STATE = SEED\n",
    "TEST_RANDOM_STATE = SEED\n",
    "RANDOM_SEED = SEED\n",
    "NP_SEED = SEED\n",
    "TF_SEED = SEED\n",
    "PYTHON_HASH_SEED = SEED\n",
    "\n",
    "CONTEXT_LENGTH = 10\n",
    "POZITIV_PERCENTAGE_TO_KEEP = 100\n",
    "NEGATIV_PERCENTAGE_TO_KEEP = 100\n",
    "SEMLEGES_PERCENTAGE_TO_KEEP = 100\n",
    "\n",
    "USE_STOPWORDS = False\n",
    "LOAD_CHECKPOINT = False\n",
    "CHECKPOINT_SUBDIR = 'inbalanced_bert/'\n",
    "CHECKPOINT_PREFIX = 'all_semleges_10_context/'\n",
    "\n",
    "TEXT = 'Sentence'\n",
    "START_TOKEN = 'START'\n",
    "TOKEN_LEN = 'LEN'\n",
    "Y_HEADER = 'LABEL'\n",
    "LABELS = {\n",
    "    \"NEG\": 0,\n",
    "    \"SEM\": 1,\n",
    "    \"POZ\": 2\n",
    "}\n",
    "\n",
    "MAX_SEQUENCE_LENGTH = 64\n",
    "\n",
    "BATCH_SIZE = 16\n",
    "EPOCHS = 30\n",
    "\n",
    "# Maximum hány dokumentumot nézzünk. None esetén mindet\n",
    "TRAIN_PROCESSED_MAX_DOCUMENTS = None\n",
    "# Maximum hány dokumentumot nézzünk. None esetén mindet\n",
    "TEST_PROCESSED_MAX_DOCUMENTS = None"
   ]
  },
  {
   "cell_type": "code",
   "execution_count": 3,
   "metadata": {},
   "outputs": [],
   "source": [
    "os.environ['PYTHONHASHSEED']=str(PYTHON_HASH_SEED)\n",
    "np.random.seed(NP_SEED)\n",
    "random.seed(RANDOM_SEED)\n",
    "tf.random.set_seed(TF_SEED)\n",
    "tf.compat.v1.set_random_seed(TF_SEED)\n",
    "os.environ['TF_CUDNN_DETERMINISTIC'] = '1'\n",
    "os.environ['TF_DETERMINISTIC_OPS'] = '1'\n",
    "os.environ['TF_DISABLE_SEGMENT_REDUCTION_OP_DETERMINISM_EXCEPTIONS'] = '1'\n",
    "session_conf = tf.compat.v1.ConfigProto(intra_op_parallelism_threads=1, inter_op_parallelism_threads=1)\n",
    "sess = tf.compat.v1.Session(graph=tf.compat.v1.get_default_graph(), config=session_conf)\n",
    "tf.compat.v1.keras.backend.set_session(sess)"
   ]
  },
  {
   "cell_type": "code",
   "execution_count": 4,
   "metadata": {
    "pycharm": {
     "name": "#%%\n"
    }
   },
   "outputs": [
    {
     "name": "stdout",
     "output_type": "stream",
     "text": [
      "[PhysicalDevice(name='/physical_device:GPU:0', device_type='GPU')]\n"
     ]
    }
   ],
   "source": [
    "physical_devices = tf.config.experimental.list_physical_devices('GPU')\n",
    "print(physical_devices)\n",
    "if physical_devices:\n",
    "  tf.config.experimental.set_memory_growth(physical_devices[0], True)\n",
    "\n",
    "path = 'checkpoints/' + CHECKPOINT_SUBDIR + CHECKPOINT_PREFIX"
   ]
  },
  {
   "cell_type": "code",
   "execution_count": 5,
   "metadata": {
    "pycharm": {
     "name": "#%%\n"
    }
   },
   "outputs": [],
   "source": [
    "# Text processing\n",
    "\n",
    "def extend_context(text, context, left_index, right_index, context_length):\n",
    "    if context_length is None:\n",
    "        context_length = len(text)\n",
    "    if type(text) != list:\n",
    "        text = text.split()\n",
    "    start_size = 0\n",
    "    while start_size < context_length:\n",
    "        if left_index > 0:\n",
    "            left_index -= 1\n",
    "            context.insert(0, text[left_index])\n",
    "            if len(text[left_index]) > 1:\n",
    "                start_size += 1\n",
    "        if right_index < len(text) -1:\n",
    "            right_index += 1\n",
    "            context.append(text[right_index])\n",
    "            if len(text[right_index]) > 1:\n",
    "                start_size += 1\n",
    "        if left_index <= 0 and right_index >= len(text) -1:\n",
    "            break\n",
    "    return ' '.join(context)\n",
    "\n",
    "#Ha a context_length None, akkor a teljes szövegre fut.\n",
    "def contextualize(index, debug = False, context_length=None):\n",
    "    global fix\n",
    "    text = ' '.join([i for i in re.split(r'( - |(?![%.-])\\W)|(-e[\\n ])', dataset[TEXT].iloc[index]) if i])\n",
    "    context_start_index = int(dataset[START_TOKEN].iloc[index] - 1)\n",
    "    context_stop_index = int(context_start_index+dataset[TOKEN_LEN].iloc[index] - 1)\n",
    "\n",
    "    context_name_tokens = \\\n",
    "        [t for t in text.split()[context_start_index:context_stop_index+1]]\n",
    "\n",
    "    context_list = context_name_tokens\n",
    "    left_index = context_start_index\n",
    "    right_index = context_stop_index\n",
    "    context = extend_context(text, context_list, left_index, right_index, context_length)\n",
    "    return context\n",
    "\n",
    "def delete_labeled_rows(dataset, label, percentage_to_remain = 10):\n",
    "    neutral_ids = dataset.index[dataset[Y_HEADER] == label].tolist()\n",
    "    neutral_id_drop = set(random.sample(range(len(neutral_ids)), int(len(neutral_ids) * percentage_to_remain / 100)))\n",
    "    ids_to_delete = [x for i,x in enumerate(neutral_ids) if not i in neutral_id_drop]\n",
    "    return dataset.drop(ids_to_delete)"
   ]
  },
  {
   "cell_type": "code",
   "execution_count": 6,
   "metadata": {
    "pycharm": {
     "name": "#%%\n"
    },
    "scrolled": true
   },
   "outputs": [
    {
     "name": "stdout",
     "output_type": "stream",
     "text": [
      "<class 'pandas.core.frame.DataFrame'>\n",
      "Int64Index: 7700 entries, 3856 to 7270\n",
      "Data columns (total 7 columns):\n",
      " #   Column    Non-Null Count  Dtype \n",
      "---  ------    --------------  ----- \n",
      " 0   ID        7700 non-null   int64 \n",
      " 1   START     7700 non-null   int64 \n",
      " 2   LEN       7700 non-null   int64 \n",
      " 3   Entity    7700 non-null   object\n",
      " 4   Sentence  7700 non-null   object\n",
      " 5   URL       7700 non-null   object\n",
      " 6   LABEL     7700 non-null   int64 \n",
      "dtypes: int64(4), object(3)\n",
      "memory usage: 481.2+ KB\n",
      "7700\n",
      "[', Kolontáron és Somlóvásárhelyen - mondta Muharay Árpád tábornok helyreállítási és újjáépítési felügyelő az', 'Ez az eljárás - mint Kende Tamás nemzetközi jogász korábban lapunknak elmondta - precedens', 'elektronikája sérülhet a fűtőolajtól , az öregebb járművek azonban jól bírják - vélekedett Helmut Schreck.', 'Demján utalt arra : már a korábbi években is hangoztatta , hogy reformok végrehajtása', 'idején Bajcsy-Zsilinszky lapjában , az Előörsben József Attila egy szignó nélküli cikkében hevesen támadta', 'Tudható volt , hogy Németh Szilárd pozícióhalmozása előbb-utóbb Csepel kárára történik majd.', 'hatodik fejezetként - a Start munkaprogramról szólt Orbán Viktor , és kifejtette : ha sikeres lesz', 'Varga Ferenc a Magyar Képzőművészeti Főiskola szobrász szakán végzett ( mestere : Bencsik János ) , majd', 'éppúgy 53 százalékot kapott , mint tavaly Balsai István , a szocialista Lévai Katalin pedig kényelmesen', 'erről azután nyilatkozott , hogy megbeszélést folytatott Schmitt Pál köztársasági elnökkel pénteken a Sándor-palotában.']\n"
     ]
    }
   ],
   "source": [
    "# Load and set up data\n",
    "\n",
    "dataset = pd.read_csv('db/train.csv', sep=';')\n",
    "dataset[Y_HEADER] = dataset[Y_HEADER].map(LABELS)\n",
    "dataset = shuffle(dataset, random_state=SHUFFLE_RANDOM_STATE)\n",
    "dataset.info()\n",
    "\n",
    "dataset = delete_labeled_rows(dataset, LABELS['SEM'], percentage_to_remain=SEMLEGES_PERCENTAGE_TO_KEEP)\n",
    "dataset = delete_labeled_rows(dataset, LABELS['NEG'], percentage_to_remain=NEGATIV_PERCENTAGE_TO_KEEP)\n",
    "dataset = delete_labeled_rows(dataset, LABELS['POZ'], percentage_to_remain=POZITIV_PERCENTAGE_TO_KEEP)\n",
    "\n",
    "X_list = []\n",
    "print(len(dataset.index))\n",
    "for i  in range(len(dataset.index)):\n",
    "    X_list.append(contextualize(i, context_length=CONTEXT_LENGTH))\n",
    "\n",
    "print(X_list[:10])\n",
    "X = np.asarray(X_list)\n",
    "y = dataset[Y_HEADER].values\n",
    "\n",
    "\n",
    "X_train, X_rem, y_train, y_rem = train_test_split(X, y, train_size=0.8, random_state=TRAIN_RANDOM_STATE)\n",
    "\n",
    "X_dev, X_test, y_dev, y_test = train_test_split(X_rem, y_rem, train_size=0.5, random_state=TEST_RANDOM_STATE)\n",
    "\n",
    "\n",
    "y_train_labels = y_train\n",
    "y_dev_labels = y_dev\n",
    "y_test_labels = y_test\n",
    "y_train = to_categorical(y_train, 3)\n",
    "y_dev = to_categorical(y_dev, 3)\n",
    "y_test = to_categorical(y_test, 3)\n"
   ]
  },
  {
   "cell_type": "code",
   "execution_count": 7,
   "metadata": {},
   "outputs": [
    {
     "data": {
      "image/png": "[encoded data removed]",
      "text/plain": [
       "<Figure size 432x288 with 1 Axes>"
      ]
     },
     "metadata": {
      "needs_background": "light"
     },
     "output_type": "display_data"
    },
    {
     "data": {
      "image/png": "[encoded data removed]",
      "text/plain": [
       "<Figure size 432x288 with 1 Axes>"
      ]
     },
     "metadata": {
      "needs_background": "light"
     },
     "output_type": "display_data"
    },
    {
     "data": {
      "image/png": "[encoded data removed]",
      "text/plain": [
       "<Figure size 432x288 with 1 Axes>"
      ]
     },
     "metadata": {
      "needs_background": "light"
     },
     "output_type": "display_data"
    }
   ],
   "source": [
    "# eloszlas\n",
    "\n",
    "def plot_label_counts(y, title='y labels'):\n",
    "    unique, counts = np.unique(y, return_counts=True)\n",
    "    b = dict(zip(unique, counts))\n",
    "    plt.barh(range(len(b)), list(b.values()), align='center', color=['pink', 'lightblue', 'lightgreen'])\n",
    "    y_values = [\"Negatív\", \"Semleges\", \"Pozitív\"]\n",
    "    y_axis = np.arange(0, 3, 1)\n",
    "    plt.yticks(y_axis, y_values)\n",
    "    plt.title(title)\n",
    "    plt.xlabel('Number of Samples in training Set')\n",
    "    plt.ylabel('Label')\n",
    "    ax = plt.gca()\n",
    "    for i, v in enumerate(b.values()):\n",
    "        plt.text(ax.get_xlim()[1]/100, i, str(v), color='blue', fontweight='bold')\n",
    "    plt.show()\n",
    "\n",
    "plot_label_counts(y_train_labels, 'Train eloszlas')\n",
    "plot_label_counts(y_dev_labels, 'Dev eloszlas')\n",
    "plot_label_counts(y_test_labels, 'Test eloszlas')\n"
   ]
  },
  {
   "cell_type": "code",
   "execution_count": 8,
   "metadata": {
    "pycharm": {
     "name": "#%%\n"
    }
   },
   "outputs": [
    {
     "name": "stderr",
     "output_type": "stream",
     "text": [
      "All model checkpoint layers were used when initializing TFBertForSequenceClassification.\n",
      "\n",
      "Some layers of TFBertForSequenceClassification were not initialized from the model checkpoint at SZTAKI-HLT/hubert-base-cc and are newly initialized: ['classifier']\n",
      "You should probably TRAIN this model on a down-stream task to be able to use it for predictions and inference.\n"
     ]
    }
   ],
   "source": [
    "bert_tokenizer = AutoTokenizer.from_pretrained(\"SZTAKI-HLT/hubert-base-cc\")\n",
    "bert_model = TFBertForSequenceClassification.from_pretrained(\"SZTAKI-HLT/hubert-base-cc\", num_labels=3)"
   ]
  },
  {
   "cell_type": "code",
   "execution_count": 9,
   "metadata": {},
   "outputs": [],
   "source": [
    "all_stopwords = []\n",
    "\n",
    "def apply_stopwords(sentences):\n",
    "    global all_stopwords\n",
    "    corpus = []\n",
    "    for sen in sentences:\n",
    "        sentence = sen.split()\n",
    "        all_stopwords = stopwords.words('hungarian')\n",
    "        whitelist = [\"ne\", \"nem\", \"se\", \"sem\"]\n",
    "        sentence = [word for word in sentence if (word.lower() not in all_stopwords or word.lower() in whitelist)\n",
    "                 and len(word) > 1]\n",
    "        sentence = ' '.join(sentence)\n",
    "        corpus.append(sentence)\n",
    "\n",
    "    return corpus\n"
   ]
  },
  {
   "cell_type": "code",
   "execution_count": 10,
   "metadata": {
    "pycharm": {
     "name": "#%%\n"
    },
    "scrolled": false
   },
   "outputs": [
    {
     "name": "stdout",
     "output_type": "stream",
     "text": [
      "['Marco szerint erre nem lett volna szükség , mert mentocsónakok segítségével mindenki', 'Pedig ez egyáltalán nem igaz - mondta el a tapasztalatait Radnai Fruzsina.', 'Meglehetősen pechesek vagyunk idén a sérülésekkel , Szalai Ádámmal kezdődött a balszerencsés sorozat , és Dzsudzsák', 'Jogi szakértőkre hivatkozva Boni elmondta , hogy az ACTA csak 10 százalékban', 'Bisztricz Anett tájékoztatása szerint a tűzoltók dugólétrák segítségével közelítették meg a járművet , s a vízben és', 'Lengyel Imre közgazdász professzor mottóként azt mondta : , , Csukott szájba nem repülnek be', 'Lukács László gondként említette , hogy az olcsó importtermékekkel a kereskedelem folyamatosan nyomottan tartja', 'Bihary Gábor , az MSZP fővárosi közgyűlési képviselője vizsgálóbizottság felállítását kezdeményezte , mert szerintük', 'Tarlós István azt is elmondta szombati sajtótájékoztatóján , hogy a BKV januárban csődbe megy', 'az állítólag Bolívia felosztására és Evo Morales államfő meggyilkolására szőtt összeesküvéssel kapcsolatban.', 'említette , valamint Zorin Varsói melódia című darabját , amelyet Iglódi István állított színpadra.', 'Máté , a bizottság fideszes elnöke jelezte , Richard Fieldet meghívták a vizsgálóbizottság ülésére , ám nem jött', 'A kisebbségi önkormányzat megbízást adott Kiss Sándor körjegyzőnek , hogy a testület szervezeti és működési', 'Golcsa elmondta : \" Gergényitől 2008 tavaszán Hunvald anyagot , információt kért K. Ferencről , mivel', 'ám ezek a legtöbbször nem egyszerűek , mondta el Giricz László a baptista közösség tagja.', 'Fucsovics Márton két játszmában győzött a döntőben.', 'A ház korábban Draskovics Tibor igazságügyi és rendészeti miniszter tulajdonában állt.', 'alapján 15 millió forintot költ a KIM 15 Deák Ferenc- , 15 Batthyány Lajos- , 30', 'valamint Christian Massard , aki a korábbi szocialista belügyminiszter , Daniel Vaillant védelméért volt felelős.', 'legújabb koncepcióban megjelenő állami ösztöndíj ugyanakkor Pokorni ötletéhez hasonlít , azzal a különbséggel', 'A távirati iroda kérdésére Kohári Lajos hozzátette : a kormány egyelőre nem hozott döntést arról', 'Az ünnepi eseményen Kövér László , az Országgyűlés elnöke adott engedélyt a Honvéd Koronaőrség', 'harmadik hír : a Fővárosi Bíróságon március 23-án kezdődik Dávid Ibolya és vádlott-társai büntetőpere.', 'Ha így teszünk , Orbán kudarcot vall. \"', 'Ami az Európai Bizottság kérdéseit illeti , Viviane Reding alelnök a határidőre megkapta válaszunkat , amelyben', 'igazgató ( László István ) , technikai igazgató ( Kocsis Zoltán ) és marketinges ( Szabó András ) nélkül maradt', 'majd ott felejtett gyertya okozta a tüzet - közölte Dobi Tamás , a megyei rendőr-főkapitányság sajtóreferense.', 'nagy siker , ahogyan a hölgyek a Női estéken a TRX-et fogadják - jelentette ki Tarján Lajos.', 'volt közös fellépésük , az együttes énekesnőjét , Szűcs Gabit , és ezen a koncerten a zongoránál nem', 'Németh Dávid szerint egyértelműen a Bajnai program érdeme , hogy rövid idő alatt növekedési', 'Silvio Berlusconi közleményében átlátszóan cinikusan elhatárolódott a lejárató cikktől : , , Sajnálom , nem tudtam róla', 'óriási a globális kihívások közepette - mondta José Manuel Barroso , az Európai Bizottság elnöke a', 'Dézsi Mihály elmondta azt is , hogy egy átlagos teljesítményű téli gumi garnitúra', 'Sárközy György Irán-kutató és Nógrádi György biztonságpolitikai szakértő egyetért abban , hogy az', 'az elnökjelölt-aspiránsok vitájának múlt hét csütörtöki felvezetőjében John King , a CNN műsorvezetője rákérdezett a frissen', 'Vértes András szintén tekintélyes , egyelőre nem számszerűsíthető bevételkiesést valószínűsít a vállalati , önkormányzati és', 'októberében egy több százmillió forintos , Szabó Pál vezérigazgatósága alatt indított informatikai beszerzést függesztett', 'Bencze József emlékeztetett , hogy tavaly nyáron , az első támadások után 50 fős', '\" Marton Endre és Major Tamás is megnézte az előadást , és ők hívtak', 'együttműködés számos területéről egyeztettek a felek - közölte Szűcs Somlyó Mária , a Főpolgármesteri Hivatal kommunikációs igazgatója , aki', 'legfiatalabb látogatóinak például július 23-án , pénteken Vrábel János , a népművészet csókai mestere 16 órától', 'Tizenegy ember meghalt , hetven megsebesült - közölte Szabah as-Sammari , a helyi rendőrség hadnagya.', 'intézmény szenátusa főiskolai docens címet adományozott Dorsánszki Zsoltnak , a gyöngyösi Városgondozási Zrt. vezetőjének.', 'Meglepetésekben sem lesz hiány - árulta el Juhász István , akitől megtudtuk , hogy például a', 'Varga István azt hangoztatta , a jelenlegi elnök újrajelölésével a folyamatosság mellett döntöttek.', 'olcsón a bőrét a Honvéd , és Kondás Elemér is azt fejtegette , hogy nagyot kell', 'Magyarországon nem igazán okos megszorongatni az ellenzéki sajtót - teszi hozzá Tölgyessy.', 'nyerő Pep Guardiola lett , megelőzve a reálos José Mourinhót és Sir Alex Fergusont.', 'Volpone című darabjában Corbacciót alakította , a Csillag a máglyán című Sütő-darabban pedig Kálvin Jánost.', 'kormányfő levelére reagálva úgy fogalmazott : Bajnai Gordont és az MSZP-kormányt senki nem hatalmazta', 'tervezett jelentős minimálbéremelés is az infláció miatt fájó a jegybanknak - mondta Simor.', 'biztonságos energiaellátás a versenyképesség érdekében megfizethető áron és fenntartható módon - hangsúlyozta Bencsik János.', 'Hozzátette , Pokorni Zoltán és Hoffmann Rózsa között szemléletbeli és koncepcionális különbség rajzolódott', 'Matolcsy György szerint meg kellene valósítani egy fiskális uniót , és csak utána', 'parlamenti frakcióvezetője , több országgyűlési képviselő , Lomnici Zoltán , az Emberi Méltóság Tanácsának elnöke és', 'körülmetélik magukat , hogy egy néppé váljanak Jákob családjával , s ily módon Dinát az', 'esetben negyeddemokráciák megingásakor , mint Mubaraké , Ben Alié , II. Abdullah jordán királyé , és', 'A képen : Pandula László a családi házának udvarán , egy MIG-hajtóm ? vön mutatja be az', 'A kapitány , Francesco Schettino azt nyilatkozta : ott , ahol voltak , a tengerészeti térkép szerint a vízmélységnek', 'Mindjárt el is mondom a kollégáknak - hallottuk a telefonban Nagyné Bánfi Judit igazgatótól.', 'sor - számolt be röviden az eseményről Kerner Ferenc , a rendező klub , Herendi Modellező', 'kikapcsolódás és a hölgyek feltöltődve mentek haza - mondta Tarján Lajos , a T & M Sport Fitness Stúdió vezetője', 'pályázati-fejlesztési programok megfelelő kezelése érdekében - mondta Ékes József , a térség fideszes országgyűlési képviselője pénteken', 'Sólyom László szerint a legutolsó réteg , amelyhez hozzá lehet nyúlni , a gyereket vállaló és', 'Filippov Gábor szerint ugyanakkor a jelenlegi kormánytöbbség stratégiája középtávon nemcsak a polgári kormányzatszámára vált', 'Lett is belőle , , Kun Béla unokája \" .', 'Józsa István frakcióvezető-helyettes kijelentette : dolgozni kell , az imádság itt már nem elég.', 'Szögi Lajos tiszavasvári tanárt a gyermekei szeme láttára verték agyon 2006. október 15-én', 'A Tiborcok szóvivője , Hanti Vilmos azt mondta , már régebben jelezték észrevételeiket , de erőtlenek', 'Erik Tomás , az ellenzéki Irány-Szociáldemokrácia ( Smer ) párt szóvivője szerint a párt képviselői a parlamenti', 'miatt vádat emelt a Központi Nyomozó Főügyészség Staudt Gábor ellen , amiért a jobbikos országgyűlési képviselő', 'minőségében tett , amerikai kalandjait , majd találkozásait az Enszben Golda Méir izraei külügyminiszterrel.', 'jelentését a közelmúltban , aminek kézirata már a nyomdában van , és Sólyom januárban ismerteti.', 'Végh József kriminálpszichológus szerint ennek három oka lehet : Nóra vagy ájult , vagy', 'Szűcs Somlyó Mária , a Főpolgármesteri Hivatal kommunikációs igazgatója az MTI-hez csütörtökön eljuttatott közleményében kiemelte', 'tömöríti az unióban - jelentette be Makay Zsolt , az MDF országos választmányának elnöke', 'Jessica Callaway ellen vádat emeltek kiskorú bántalmazásáért , és letartóztatták.', 'nyugdíjpénztárak hazai történetében eddig reálértéken kiegyenlítődött - mondta korábban Binder István , a PSZÁF sajtószóvivője.', 'Budavári Árpád rendőr őrnagy , megbízott dunaújvárosi rendőrkapitány hozzátette : minden lehetséges segítséget megadnak', 'A \" felsőfokú \" népszerűsítésben Kerényi azt javasolta , hogy ez egy speciális díszkiadás legyen', 'A nyomozó ügyészség júniusban is kezdeményezte Szima Judit előzetes letartóztatását.', 'Molnár Csaba feltevéseit egyebek mellett arra alapozza , hogy a fideszesek mindeközben maguk vallják', 'készíteni az euróbevezetést - ezekkel indokolta Gyurcsány Ferenc kormányfő mai parlamenti évértékelő-évindító beszédében legújabb', 'Egy napos látogatásra Németországba utazik Gyurcsány Ferenc miniszterelnök kedden délután.', 'visszaállítja a 32 százalékos szja kulcsot - mondta Szekeres Imre , szocialista képviselő az Országgyűlés számvevőszéki', 'Merkel ugyanakkor speciális esetnek minősítette Görögországot , és ismét leszögezte , hogy egyetlen', 'Stohl András vérében később alkoholt , vizeletében tiltott pszichotróp anyagot is kimutattak.', 'Ahogyan Mesterházy Attila kiemelte , másfélszeresével emelnék a dolgozók bérét , és ötször több pénz', 'könnyűnek találtuk - árulta el háromórás munka után Magyar Péter és Kónya Zsolt.', 'akár veszélyes is lehet a használójára ! - figyelmeztetett előadásában Fülöp Erika rehabilitációs környezettervező szakmérnök.', 'maradni a versenyben a végéig ! - magyarázta Baricz Gergő , aki korábban maga is stoppal érkezett az', 'és Orbán Viktor vitája mellett a Dávid Ibolyával és Kuncze Gáborral kiegészült négypárti vitát', 'Az áldozat édesanyja lapunknak azt nyilatkozta , A. Pétert a saját apja vitte be a rendőrségre', 'Behring Breiviknek nevezi magát és szellemileg instabil , veszélyes , adta hírül az NRK', 'amelyből egyenesen következik , hogy egyelőre nincs sok remény Eberhard Diepgen kezdeményezésének megvalósítására.', 'Schiff szerint azonban - bár tény , hogy a közmorál egyszerűen szétporlott Itáliában - Berlusconi', ', a nagy fivérek \" , JFK , Robert és Edward apja , Joseph Kennedy nem jutott', 'honlap szerint a magyar EU-elnökséggel kapcsolatban , Jerzy Buzek emlékeztetett a soros elnökségi szerep kiemelt fontosságára', '1989-ben még illett József Attilát idézni , de most még aktuálisabb : ? jöjj szabadság', 'Stohl Andrást szeptember elején ítélte jogerősen tíz hónap letöltendő börtönbüntetésre a Pest Megyei']\n"
     ]
    }
   ],
   "source": [
    "def batch_encode(X):\n",
    "    return bert_tokenizer.batch_encode_plus(\n",
    "    X,\n",
    "    truncation=True,\n",
    "    max_length=MAX_SEQUENCE_LENGTH,\n",
    "    add_special_tokens=True, # add [CLS] and [SEP] tokens\n",
    "    return_attention_mask=True,\n",
    "    return_token_type_ids=False, # not needed for this type of ML task\n",
    "    padding='max_length', # add 0 pad tokens to the sequences less than max_length\n",
    "    return_tensors='tf'\n",
    ")\n",
    "X_train = X_train.tolist() if not USE_STOPWORDS else apply_stopwords(X_train.tolist())\n",
    "X_dev = X_dev.tolist() if not USE_STOPWORDS else apply_stopwords(X_dev.tolist())\n",
    "X_test = X_test.tolist() if not USE_STOPWORDS else apply_stopwords(X_test.tolist())\n",
    "print(X_train[:100])\n",
    "\n",
    "\n",
    "X_train = batch_encode(X_train[:TRAIN_PROCESSED_MAX_DOCUMENTS])\n",
    "X_dev = batch_encode(X_dev[:TEST_PROCESSED_MAX_DOCUMENTS])\n",
    "X_test = batch_encode(X_test[:TEST_PROCESSED_MAX_DOCUMENTS])\n",
    "y_train = y_train[:TRAIN_PROCESSED_MAX_DOCUMENTS]\n",
    "y_dev = y_dev[:TEST_PROCESSED_MAX_DOCUMENTS]\n",
    "y_test = y_test[:TEST_PROCESSED_MAX_DOCUMENTS]"
   ]
  },
  {
   "cell_type": "code",
   "execution_count": 11,
   "metadata": {
    "pycharm": {
     "is_executing": true,
     "name": "#%%\n"
    }
   },
   "outputs": [],
   "source": [
    "def create_model():\n",
    "    input_ids = tf.keras.layers.Input(shape=(64,), dtype=tf.int32, name='input_ids')\n",
    "    attention_mask = tf.keras.layers.Input((64,), dtype=tf.int32, name='attention_mask')\n",
    "    output = bert_model([input_ids, attention_mask])[0]\n",
    "    output = tf.keras.layers.Dropout(rate=0.15)(output)\n",
    "    output = tf.keras.layers.Dense(3, activation='softmax')(output)\n",
    "    result = tf.keras.models.Model(inputs=[input_ids, attention_mask], outputs=output)\n",
    "    return result\n",
    "\n",
    "model = create_model()\n",
    "\n",
    "opt = tf.keras.optimizers.Adam(learning_rate=3e-5)\n",
    "model.compile(optimizer=opt, loss='categorical_crossentropy', metrics=['accuracy'])"
   ]
  },
  {
   "cell_type": "code",
   "execution_count": 12,
   "metadata": {
    "pycharm": {
     "is_executing": true,
     "name": "#%%\n"
    }
   },
   "outputs": [
    {
     "name": "stdout",
     "output_type": "stream",
     "text": [
      "BertConfig {\n",
      "  \"_name_or_path\": \"SZTAKI-HLT/hubert-base-cc\",\n",
      "  \"attention_probs_dropout_prob\": 0.1,\n",
      "  \"classifier_dropout\": null,\n",
      "  \"gradient_checkpointing\": false,\n",
      "  \"hidden_act\": \"gelu\",\n",
      "  \"hidden_dropout_prob\": 0.1,\n",
      "  \"hidden_size\": 768,\n",
      "  \"id2label\": {\n",
      "    \"0\": \"LABEL_0\",\n",
      "    \"1\": \"LABEL_1\",\n",
      "    \"2\": \"LABEL_2\"\n",
      "  },\n",
      "  \"initializer_range\": 0.02,\n",
      "  \"intermediate_size\": 3072,\n",
      "  \"label2id\": {\n",
      "    \"LABEL_0\": 0,\n",
      "    \"LABEL_1\": 1,\n",
      "    \"LABEL_2\": 2\n",
      "  },\n",
      "  \"layer_norm_eps\": 1e-12,\n",
      "  \"max_position_embeddings\": 512,\n",
      "  \"model_type\": \"bert\",\n",
      "  \"num_attention_heads\": 12,\n",
      "  \"num_hidden_layers\": 12,\n",
      "  \"pad_token_id\": 0,\n",
      "  \"position_embedding_type\": \"absolute\",\n",
      "  \"transformers_version\": \"4.11.3\",\n",
      "  \"type_vocab_size\": 2,\n",
      "  \"use_cache\": true,\n",
      "  \"vocab_size\": 32001\n",
      "}\n",
      "\n",
      "Model: \"model\"\n",
      "__________________________________________________________________________________________________\n",
      "Layer (type)                    Output Shape         Param #     Connected to                     \n",
      "==================================================================================================\n",
      "input_ids (InputLayer)          [(None, 64)]         0                                            \n",
      "__________________________________________________________________________________________________\n",
      "attention_mask (InputLayer)     [(None, 64)]         0                                            \n",
      "__________________________________________________________________________________________________\n",
      "tf_bert_for_sequence_classifica TFSequenceClassifier 110620419   input_ids[0][0]                  \n",
      "                                                                 attention_mask[0][0]             \n",
      "__________________________________________________________________________________________________\n",
      "dropout_38 (Dropout)            (None, 3)            0           tf_bert_for_sequence_classificati\n",
      "__________________________________________________________________________________________________\n",
      "dense (Dense)                   (None, 3)            12          dropout_38[0][0]                 \n",
      "==================================================================================================\n",
      "Total params: 110,620,431\n",
      "Trainable params: 110,620,431\n",
      "Non-trainable params: 0\n",
      "__________________________________________________________________________________________________\n"
     ]
    }
   ],
   "source": [
    "print(bert_model.config)\n",
    "model.summary()\n"
   ]
  },
  {
   "cell_type": "code",
   "execution_count": 13,
   "metadata": {
    "pycharm": {
     "is_executing": true,
     "name": "#%%\n"
    }
   },
   "outputs": [],
   "source": [
    "checkpoint_path = path + 'cp.ckpt'\n",
    "cp_callback = tf.keras.callbacks.ModelCheckpoint(filepath=checkpoint_path,\n",
    "                                                 save_weights_only=True,\n",
    "                                                 verbose=1)"
   ]
  },
  {
   "cell_type": "code",
   "execution_count": 14,
   "metadata": {
    "pycharm": {
     "is_executing": true,
     "name": "#%%\n"
    }
   },
   "outputs": [],
   "source": [
    "def calculate_weights():\n",
    "    y_categorical = np.argmax(y_train, axis=-1)\n",
    "    class_weights = list(class_weight.compute_class_weight('balanced', classes=np.unique(dataset[Y_HEADER]), y=y_categorical))\n",
    "    weights={}\n",
    "    \n",
    "    for index, weight in enumerate(class_weights) :\n",
    "      weights[index]=weight\n",
    "    \n",
    "    return weights\n",
    "\n",
    "def get_history_as_text(history, epoch):\n",
    "    return f'Epoch {epoch+1: <3}: loss: {format(history[\"loss\"][epoch], \".4f\")} - accuracy: {format(history[\"accuracy\"][epoch], \".4f\")} - val_loss: {format(history[\"val_loss\"][epoch], \".4f\")} - val_accuracy: {format(history[\"val_accuracy\"][epoch], \".4f\")}'\n",
    "\n",
    "def fit_model():\n",
    "    weights = calculate_weights()\n",
    "    print(weights)\n",
    "    if not LOAD_CHECKPOINT:\n",
    "        history = model.fit(\n",
    "            x=X_train.values(),\n",
    "            #class_weight=weights,\n",
    "            y=y_train,\n",
    "            validation_data=(X_dev.values(), y_dev),\n",
    "            epochs=EPOCHS,\n",
    "            batch_size=BATCH_SIZE,\n",
    "            callbacks=[EarlyStopping(monitor='val_loss', mode='min', verbose=1, patience=2), cp_callback]\n",
    "        )\n",
    "        with open(path + '.history', 'wb') as file_pi:\n",
    "            pickle.dump(history.history, file_pi)\n",
    "        text_file = open(path + \"history.txt\", \"w\")\n",
    "        print(len(history.history['loss']))\n",
    "        for i in range(len(history.history['loss'])):\n",
    "            history_text = get_history_as_text(history.history, i)\n",
    "            print(history_text)\n",
    "            text_file.writelines(history_text + '\\n')\n",
    "        text_file.close()\n",
    "    else:\n",
    "        model.load_weights(checkpoint_path)\n",
    "        history = pickle.load(open(path + '.history', \"rb\"))\n",
    "        for i in range(len(history['loss'])):\n",
    "            history_text = get_history_as_text(history, i)\n",
    "            print(history_text)\n",
    "    result = model.evaluate(X_test.values(), y_test)\n",
    "    predict = model.predict(X_test.values())\n",
    "    np_predict = np.argmax(predict,axis=1)\n",
    "    return history, result, np_predict\n"
   ]
  },
  {
   "cell_type": "code",
   "execution_count": 15,
   "metadata": {
    "scrolled": false
   },
   "outputs": [
    {
     "name": "stdout",
     "output_type": "stream",
     "text": [
      "{0: 1.9190031152647975, 1: 0.45058883768561186, 2: 3.852407754846779}\n",
      "Epoch 1/30\n",
      "385/385 [==============================] - 284s 720ms/step - loss: 0.4579 - accuracy: 0.8187 - val_loss: 0.3527 - val_accuracy: 0.8636\n",
      "\n",
      "Epoch 00001: saving model to checkpoints/inbalanced_bert/all_semleges_10_context\\cp.ckpt\n",
      "Epoch 2/30\n",
      "385/385 [==============================] - 312s 811ms/step - loss: 0.2741 - accuracy: 0.8948 - val_loss: 0.3328 - val_accuracy: 0.8922\n",
      "\n",
      "Epoch 00002: saving model to checkpoints/inbalanced_bert/all_semleges_10_context\\cp.ckpt\n",
      "Epoch 3/30\n",
      "385/385 [==============================] - 349s 908ms/step - loss: 0.1958 - accuracy: 0.9209 - val_loss: 0.4714 - val_accuracy: 0.8857\n",
      "\n",
      "Epoch 00003: saving model to checkpoints/inbalanced_bert/all_semleges_10_context\\cp.ckpt\n",
      "Epoch 4/30\n",
      "385/385 [==============================] - 330s 857ms/step - loss: 0.1580 - accuracy: 0.9385 - val_loss: 0.3685 - val_accuracy: 0.8870\n",
      "\n",
      "Epoch 00004: saving model to checkpoints/inbalanced_bert/all_semleges_10_context\\cp.ckpt\n",
      "Epoch 00004: early stopping\n",
      "4\n",
      "Epoch 1  : loss: 0.4579 - accuracy: 0.8187 - val_loss: 0.3527 - val_accuracy: 0.8636\n",
      "Epoch 2  : loss: 0.2741 - accuracy: 0.8948 - val_loss: 0.3328 - val_accuracy: 0.8922\n",
      "Epoch 3  : loss: 0.1958 - accuracy: 0.9209 - val_loss: 0.4714 - val_accuracy: 0.8857\n",
      "Epoch 4  : loss: 0.1580 - accuracy: 0.9385 - val_loss: 0.3685 - val_accuracy: 0.8870\n",
      "25/25 [==============================] - 10s 393ms/step - loss: 0.3124 - accuracy: 0.9104\n"
     ]
    }
   ],
   "source": [
    "history, result, predict = fit_model()"
   ]
  },
  {
   "cell_type": "code",
   "execution_count": 16,
   "metadata": {
    "scrolled": true
   },
   "outputs": [
    {
     "name": "stdout",
     "output_type": "stream",
     "text": [
      "Classification report:\n",
      "              precision    recall  f1-score   support\n",
      "\n",
      "           0       0.89      0.74      0.81       138\n",
      "           1       0.95      0.96      0.95       570\n",
      "           2       0.67      0.87      0.76        62\n",
      "\n",
      "    accuracy                           0.91       770\n",
      "   macro avg       0.84      0.86      0.84       770\n",
      "weighted avg       0.92      0.91      0.91       770\n",
      "\n",
      "Accuracy:                          0.9103896103896104\n",
      "Accuracy from evaluation:          0.9103896021842957\n",
      "Confusion matrix:\n"
     ]
    },
    {
     "data": {
      "image/png": "[encoded data removed]",
      "text/plain": [
       "<Figure size 720x504 with 2 Axes>"
      ]
     },
     "metadata": {
      "needs_background": "light"
     },
     "output_type": "display_data"
    }
   ],
   "source": [
    "le = LabelEncoder()\n",
    "\n",
    "def evaluate(predict, result, y):\n",
    "    y_le = le.fit_transform(y[:TEST_PROCESSED_MAX_DOCUMENTS])\n",
    "    print('Classification report:')\n",
    "    print(classification_report(y_le, predict))\n",
    "    print(f'Accuracy: {accuracy_score(y_le, predict): >43}')\n",
    "    print(f'Accuracy from evaluation: {result[1]: >27}')\n",
    "    print('Confusion matrix:')\n",
    "    df_cm = pd.DataFrame(confusion_matrix(y_le, predict),\n",
    "                         index=[i for i in ['negative', 'neutral', 'positive']],\n",
    "                         columns=[i for i in ['negative', 'neutral', 'positive']])\n",
    "    if not LOAD_CHECKPOINT:\n",
    "        with open(path + \"results.txt\", \"w\") as text_file:\n",
    "            df_cm_string = df_cm.to_string(header=False, index=False)\n",
    "            text_file.write('Classification report:\\n')\n",
    "            text_file.write(classification_report(y_le, predict))\n",
    "            text_file.write(f'\\nAccuracy: {accuracy_score(y_le, predict): >43}\\n')\n",
    "            text_file.write(f'Accuracy from evaluation: {result[1]: >27}\\n')\n",
    "            text_file.write('\\nConfusion matrix:\\n')\n",
    "            text_file.write(df_cm_string)\n",
    "    plt.figure(figsize=(10,7))\n",
    "    plt.title(CHECKPOINT_PREFIX[:-1])\n",
    "    hm = sn.heatmap(df_cm, annot=True, fmt='g', cmap=\"Blues\")\n",
    "    hm.set(ylabel='True label', xlabel='Predicted label')\n",
    "    if not LOAD_CHECKPOINT:\n",
    "        plt.savefig(path + 'accuracy-' + format(result[1], \".4f\") + '.jpg')\n",
    "    plt.show()\n",
    "    \n",
    "evaluate(predict, result, y_test_labels)"
   ]
  },
  {
   "cell_type": "code",
   "execution_count": 17,
   "metadata": {},
   "outputs": [],
   "source": [
    "import winsound\n",
    "for i in range(2, 3):\n",
    "    winsound.Beep(100 + i * 100, 400)\n"
   ]
  }
 ],
 "metadata": {
  "kernelspec": {
   "display_name": "Python 3 (ipykernel)",
   "language": "python",
   "name": "python3"
  },
  "language_info": {
   "codemirror_mode": {
    "name": "ipython",
    "version": 3
   },
   "file_extension": ".py",
   "mimetype": "text/x-python",
   "name": "python",
   "nbconvert_exporter": "python",
   "pygments_lexer": "ipython3",
   "version": "3.8.12"
  }
 },
 "nbformat": 4,
 "nbformat_minor": 1
}
