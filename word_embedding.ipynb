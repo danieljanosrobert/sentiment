{
 "cells": [
  {
   "cell_type": "code",
   "execution_count": 135,
   "metadata": {
    "pycharm": {
     "name": "#%%\n"
    }
   },
   "outputs": [
    {
     "name": "stdout",
     "output_type": "stream",
     "text": [
      "Requirement already satisfied: tensorflow-addons in c:\\users\\daniel_janos_robert\\anaconda3\\envs\\bow\\lib\\site-packages (0.13.0)\n",
      "Requirement already satisfied: typeguard>=2.7 in c:\\users\\daniel_janos_robert\\anaconda3\\envs\\bow\\lib\\site-packages (from tensorflow-addons) (2.12.1)\n",
      "Note: you may need to restart the kernel to use updated packages.\n"
     ]
    }
   ],
   "source": [
    "from pathlib import Path\n",
    "%pip install -U tensorflow-addons"
   ]
  },
  {
   "cell_type": "code",
   "execution_count": 136,
   "metadata": {
    "collapsed": true
   },
   "outputs": [],
   "source": [
    "import pandas as pd\n",
    "import re\n",
    "import nltk\n",
    "import numpy as np\n",
    "import matplotlib.pyplot as plt\n",
    "import seaborn as sn\n",
    "import tensorflow_addons as tfa\n",
    "\n",
    "LABELS = ['positive', 'neutral', 'negative']\n",
    "\n",
    "SAVE_MODEL = True\n",
    "DUMP_DIRECTORY = 'created_models'\n",
    "\n",
    "TRAIN_RANDOM_STATE = 42\n",
    "DEV_RANDOM_STATE = 42\n",
    "\n",
    "DROP=0.2\n",
    "LAYER_1_DENSITY = 1024\n",
    "LAYER_2_DENSITY = 512\n",
    "LAYER_3_DENSITY = 256\n",
    "ACTIVATION = 'sigmoid'\n",
    "\n",
    "NUM_WORDS = 10000\n",
    "SEQ_MAX_LEN = 24\n",
    "EMBEDDING_DIMENSIONS = 30\n",
    "LAST_DIMENSIONS = 3 #based on labels\n",
    "LAST_ACTIVATION = 'softmax'\n",
    "\n",
    "NUM_EPOCHS = 150\n",
    "BATCH_SIZE = 60\n",
    "COMPILE_LOSS = 'categorical_crossentropy'\n",
    "COMPILE_METRICS = ['accuracy']\n",
    "\n",
    "GLOVE_DIMENSIONS = 100\n"
   ]
  },
  {
   "cell_type": "code",
   "execution_count": 137,
   "metadata": {
    "pycharm": {
     "name": "#%%\n"
    }
   },
   "outputs": [],
   "source": [
    "import os\n",
    "from datetime import datetime\n",
    "\n",
    "import joblib\n",
    "\n",
    "\n",
    "def dump_file(o, object_name, name):\n",
    "    if not os.path.exists(DUMP_DIRECTORY):\n",
    "        os.mkdir(DUMP_DIRECTORY)\n",
    "    time = datetime.now().strftime(\"%d%b%Y%H%M%S\")\n",
    "    created_model_path = DUMP_DIRECTORY + '/' + name + '_' + time + '.dump'\n",
    "    joblib.dump(o, created_model_path)"
   ]
  },
  {
   "cell_type": "code",
   "execution_count": 138,
   "metadata": {
    "pycharm": {
     "name": "#%%\n"
    }
   },
   "outputs": [
    {
     "name": "stdout",
     "output_type": "stream",
     "text": [
      "<class 'pandas.core.frame.DataFrame'>\n",
      "Int64Index: 6275 entries, 5821 to 7270\n",
      "Data columns (total 2 columns):\n",
      " #   Column      Non-Null Count  Dtype \n",
      "---  ------      --------------  ----- \n",
      " 0   sentiment   6275 non-null   object\n",
      " 1   tweet_text  6275 non-null   object\n",
      "dtypes: object(2)\n",
      "memory usage: 147.1+ KB\n",
      "<class 'pandas.core.frame.DataFrame'>\n",
      "Int64Index: 1051 entries, 65 to 1126\n",
      "Data columns (total 2 columns):\n",
      " #   Column      Non-Null Count  Dtype \n",
      "---  ------      --------------  ----- \n",
      " 0   sentiment   1051 non-null   object\n",
      " 1   tweet_text  1051 non-null   object\n",
      "dtypes: object(2)\n",
      "memory usage: 24.6+ KB\n"
     ]
    }
   ],
   "source": [
    "from nltk.corpus import stopwords\n",
    "from sklearn.utils import shuffle\n",
    "\n",
    "HEADER = ['id1', 'id2', 'sentiment', 'tweet_text']\n",
    "HEADER_TO_DELETE = ['id1', 'id2']\n",
    "ps = nltk.SnowballStemmer('english')\n",
    "\n",
    "def remove_stopwords(input_text):\n",
    "    stopwords_list = stopwords.words('english')\n",
    "    whitelist = [\"n't\", \"not\", \"no\"]\n",
    "    words = input_text.split()\n",
    "    clean_words = [word for word in words if (word not in stopwords_list or word in whitelist) and len(word) > 1]\n",
    "    return \" \".join(clean_words)\n",
    "\n",
    "def remove_mentions(input_text):\n",
    "    input_text = re.sub(r'@\\w+', '', input_text)\n",
    "    return re.sub(r'#\\w+', '', input_text)\n",
    "\n",
    "def clean(dataset, col='tweet_text', not_equals_text='Not Available'):\n",
    "    return dataset[dataset[col] != not_equals_text]\n",
    "\n",
    "def merge_neutrals(dataset):\n",
    "    neutral_sentiments = ['objective', 'objective-OR-neutral']\n",
    "    dataset['sentiment'] = dataset['sentiment'].apply(lambda x: 'neutral' if x in neutral_sentiments else x)\n",
    "    return dataset\n",
    "\n",
    "def preprocess_words(input_text):\n",
    "    input_text = input_text.lower()\n",
    "    return ' '.join([ps.stem(word) for word in input_text.split()])\n",
    "\n",
    "def evaluate(predict, labels):\n",
    "    print('Classification report:')\n",
    "    print(classification_report(labels, predict))\n",
    "    print('Accuracy:')\n",
    "    print(accuracy_score(labels, predict))\n",
    "\n",
    "    print('Confusion matrix:')\n",
    "    df_cm = pd.DataFrame(confusion_matrix(labels, predict),\n",
    "                         index=[i for i in ['positive', 'neutral', 'negative']],\n",
    "                         columns=[i for i in ['positive', 'neutral', 'negative']])\n",
    "    plt.figure(figsize=(10,7))\n",
    "    hm = sn.heatmap(df_cm, annot=True, fmt='g', cmap=\"Blues\")\n",
    "    hm.set(ylabel='True label', xlabel='Predicted label')\n",
    "    plt.show()\n",
    "\n",
    "\n",
    "train_dataset = pd.read_csv('db/train.tsv', sep='\\t', header=None, names=HEADER)\n",
    "train_dataset = shuffle(train_dataset, random_state=TRAIN_RANDOM_STATE)\n",
    "train_dataset = clean(train_dataset)\n",
    "train_dataset = merge_neutrals(train_dataset)\n",
    "train_dataset.drop(HEADER_TO_DELETE, axis=1, inplace=True)\n",
    "train_dataset['tweet_text'] = train_dataset['tweet_text'].apply(remove_stopwords).apply(remove_mentions).apply(preprocess_words)\n",
    "train_dataset.info()\n",
    "\n",
    "dev_dataset = pd.read_csv('db/dev-full.tsv', sep='\\t', header=None, names=HEADER)\n",
    "dev_dataset = shuffle(dev_dataset, random_state=DEV_RANDOM_STATE)\n",
    "dev_dataset = clean(dev_dataset)\n",
    "dev_dataset = merge_neutrals(dev_dataset)\n",
    "dev_dataset.drop(HEADER_TO_DELETE, axis=1, inplace=True)\n",
    "dev_dataset['tweet_text'] = dev_dataset['tweet_text'].apply(remove_stopwords).apply(remove_mentions).apply(preprocess_words)\n",
    "dev_dataset.info()"
   ]
  },
  {
   "cell_type": "code",
   "execution_count": 139,
   "metadata": {
    "pycharm": {
     "name": "#%%\n"
    }
   },
   "outputs": [
    {
     "data": {
      "text/plain": "     sentiment                                         tweet_text\n5821   neutral                  i'm bout listen nicki minaj night\n2833  positive  see c. edward anyth race hard thur duel i'm su...\n2543  positive  fux wit yo 3rd choic gift hand (the ben carson...\n1737  positive  first time list red: \"doe diva think avril lav...\n6582  positive  congrat lloyd robertson gordon sinclair award ...",
      "text/html": "<div>\n<style scoped>\n    .dataframe tbody tr th:only-of-type {\n        vertical-align: middle;\n    }\n\n    .dataframe tbody tr th {\n        vertical-align: top;\n    }\n\n    .dataframe thead th {\n        text-align: right;\n    }\n</style>\n<table border=\"1\" class=\"dataframe\">\n  <thead>\n    <tr style=\"text-align: right;\">\n      <th></th>\n      <th>sentiment</th>\n      <th>tweet_text</th>\n    </tr>\n  </thead>\n  <tbody>\n    <tr>\n      <th>5821</th>\n      <td>neutral</td>\n      <td>i'm bout listen nicki minaj night</td>\n    </tr>\n    <tr>\n      <th>2833</th>\n      <td>positive</td>\n      <td>see c. edward anyth race hard thur duel i'm su...</td>\n    </tr>\n    <tr>\n      <th>2543</th>\n      <td>positive</td>\n      <td>fux wit yo 3rd choic gift hand (the ben carson...</td>\n    </tr>\n    <tr>\n      <th>1737</th>\n      <td>positive</td>\n      <td>first time list red: \"doe diva think avril lav...</td>\n    </tr>\n    <tr>\n      <th>6582</th>\n      <td>positive</td>\n      <td>congrat lloyd robertson gordon sinclair award ...</td>\n    </tr>\n  </tbody>\n</table>\n</div>"
     },
     "execution_count": 139,
     "metadata": {},
     "output_type": "execute_result"
    }
   ],
   "source": [
    "from sklearn.metrics import confusion_matrix, classification_report, accuracy_score\n",
    "\n",
    "def evaluate(predict, labels, history):\n",
    "    print('Classification report:')\n",
    "    print(classification_report(labels, predict))\n",
    "    print('Accuracy:')\n",
    "    print(accuracy_score(labels, predict))\n",
    "\n",
    "    print('Confusion matrix:')\n",
    "    df_cm = pd.DataFrame(confusion_matrix(labels, predict),\n",
    "                         index=[i for i in ['positive', 'neutral', 'negative']],\n",
    "                         columns=[i for i in ['positive', 'neutral', 'negative']])\n",
    "    plt.figure(figsize=(10,7))\n",
    "    hm = sn.heatmap(df_cm, annot=True, fmt='g', cmap=\"Blues\")\n",
    "    hm.set(ylabel='True label', xlabel='Predicted label')\n",
    "    plt.show()\n",
    "\n",
    "    plt.plot(history.history['accuracy'])\n",
    "    plt.plot(history.history['val_accuracy'])\n",
    "    plt.title('model accuracy')\n",
    "    plt.ylabel('accuracy')\n",
    "    plt.xlabel('epoch')\n",
    "    plt.legend(['train acc', 'val acc'], loc='upper left')\n",
    "    plt.show()\n",
    "\n",
    "    plt.plot(history.history['loss'])\n",
    "    plt.plot(history.history['val_loss'])\n",
    "    plt.title('model loss')\n",
    "    plt.ylabel('loss')\n",
    "    plt.xlabel('epoch')\n",
    "    plt.legend(['train loss', 'val loss'], loc='upper left')\n",
    "    plt.show()\n",
    "\n",
    "x_train = train_dataset['tweet_text'].values\n",
    "y_train = train_dataset['sentiment'].values\n",
    "\n",
    "x_dev = dev_dataset['tweet_text'].values\n",
    "y_dev = dev_dataset['sentiment'].values\n",
    "\n",
    "train_dataset.head(5)"
   ]
  },
  {
   "cell_type": "code",
   "execution_count": 140,
   "metadata": {
    "pycharm": {
     "name": "#%%\n"
    }
   },
   "outputs": [],
   "source": [
    "from keras.preprocessing.text import Tokenizer\n",
    "from keras.preprocessing.sequence import pad_sequences\n",
    "\n",
    "tk = Tokenizer(num_words=NUM_WORDS, filters='!\"#$%&()*+,-./:;<=>?@[\\]^_`{\"}~\\t\\n',\n",
    "               lower=True, split=\" \")\n",
    "tk.fit_on_texts(x_train)\n",
    "x_train_seq = tk.texts_to_sequences(x_train)\n",
    "x_dev_seq = tk.texts_to_sequences(x_dev)\n",
    "\n",
    "x_train_seq_trunc = pad_sequences(x_train_seq, maxlen=SEQ_MAX_LEN)\n",
    "x_dev_seq_trunc = pad_sequences(x_dev_seq, maxlen=SEQ_MAX_LEN)"
   ]
  },
  {
   "cell_type": "code",
   "execution_count": 141,
   "metadata": {
    "pycharm": {
     "name": "#%%\n"
    }
   },
   "outputs": [],
   "source": [
    "from sklearn.preprocessing import LabelEncoder\n",
    "from keras.utils.np_utils import to_categorical\n",
    "\n",
    "le = LabelEncoder()\n",
    "y_train_le = le.fit_transform(y_train)\n",
    "y_dev_le = le.fit_transform(y_dev)\n",
    "y_train_categorical = to_categorical(y_train_le)\n",
    "y_dev_categorical = to_categorical(y_dev_le)"
   ]
  },
  {
   "cell_type": "code",
   "execution_count": 142,
   "metadata": {
    "pycharm": {
     "name": "#%%\n"
    }
   },
   "outputs": [
    {
     "name": "stdout",
     "output_type": "stream",
     "text": [
      "Model: \"sequential_14\"\n",
      "_________________________________________________________________\n",
      "Layer (type)                 Output Shape              Param #   \n",
      "=================================================================\n",
      "embedding_14 (Embedding)     (None, 24, 30)            300000    \n",
      "_________________________________________________________________\n",
      "flatten_14 (Flatten)         (None, 720)               0         \n",
      "_________________________________________________________________\n",
      "dense_14 (Dense)             (None, 3)                 2163      \n",
      "=================================================================\n",
      "Total params: 302,163\n",
      "Trainable params: 302,163\n",
      "Non-trainable params: 0\n",
      "_________________________________________________________________\n"
     ]
    }
   ],
   "source": [
    "from keras import models\n",
    "from keras import layers\n",
    "\n",
    "emb_model = models.Sequential()\n",
    "emb_model.add(layers.Embedding(NUM_WORDS, EMBEDDING_DIMENSIONS, input_length=SEQ_MAX_LEN))\n",
    "emb_model.add(layers.Flatten())\n",
    "emb_model.add(layers.Dense(LAST_DIMENSIONS, activation=LAST_ACTIVATION))\n",
    "emb_model.summary()"
   ]
  },
  {
   "cell_type": "code",
   "execution_count": 143,
   "metadata": {
    "pycharm": {
     "name": "#%%\n"
    }
   },
   "outputs": [],
   "source": [
    "tqdm_callback = tfa.callbacks.TQDMProgressBar()\n",
    "from tensorflow.python.keras.callbacks import EarlyStopping\n",
    "\n",
    "def deep_model(model, x_train, y_train, x_dev, y_dev):\n",
    "    model.compile(loss=COMPILE_LOSS, metrics=COMPILE_METRICS)\n",
    "\n",
    "    history = model.fit(x_train, y_train, epochs=NUM_EPOCHS, batch_size=BATCH_SIZE,\n",
    "                        validation_data=(x_dev, y_dev), verbose=0, callbacks=[EarlyStopping(patience=2), tqdm_callback])\n",
    "    # TODO: shuffle -> random state, with seeds\n",
    "    # if SAVE_MODEL:\n",
    "    #   dump_file(model, 'neural net', 'deep_model')\n",
    "\n",
    "    result = model.evaluate(x_dev, y_dev)\n",
    "    predict = model.predict_classes(x_dev)\n",
    "\n",
    "    return history, result, predict\n"
   ]
  },
  {
   "cell_type": "code",
   "execution_count": 144,
   "metadata": {
    "pycharm": {
     "name": "#%%\n"
    }
   },
   "outputs": [
    {
     "data": {
      "text/plain": "Training:   0%|           0/150 ETA: ?s,  ?epochs/s",
      "application/vnd.jupyter.widget-view+json": {
       "version_major": 2,
       "version_minor": 0,
       "model_id": "dd20ffc3e8f5474693c26eb1e01948a2"
      }
     },
     "metadata": {},
     "output_type": "display_data"
    },
    {
     "name": "stdout",
     "output_type": "stream",
     "text": [
      "Epoch 1/150\n",
      "Epoch 2/150\n",
      "Epoch 3/150\n",
      "Epoch 4/150\n",
      "Epoch 5/150\n",
      "Epoch 6/150\n",
      "Epoch 7/150\n",
      "Epoch 8/150\n",
      "33/33 [==============================] - 0s 849us/step - loss: 0.9391 - accuracy: 0.5728\b\b\b\b\b\b\b\b\b\b\b\b\b\b\b\b\b\b\b\b\b\b\b\b\b\b\b\b\b\b\b\b\b\b\b\b\b\b\b\b\b\b\b\b\b\b\b\b\b\b\b\b\b\b\b\b\b\b\b\b\b\b\b\b\b\b\b\b\b\b\b\b\b\b\b\b\n"
     ]
    },
    {
     "data": {
      "text/plain": "0/105           ETA: ?s - ",
      "application/vnd.jupyter.widget-view+json": {
       "version_major": 2,
       "version_minor": 0,
       "model_id": "a7edb83751524d57a3e72b84f722f96c"
      }
     },
     "metadata": {},
     "output_type": "display_data"
    },
    {
     "data": {
      "text/plain": "0/105           ETA: ?s - ",
      "application/vnd.jupyter.widget-view+json": {
       "version_major": 2,
       "version_minor": 0,
       "model_id": "d940160048eb4dfc99f82b205138b281"
      }
     },
     "metadata": {},
     "output_type": "display_data"
    },
    {
     "data": {
      "text/plain": "0/105           ETA: ?s - ",
      "application/vnd.jupyter.widget-view+json": {
       "version_major": 2,
       "version_minor": 0,
       "model_id": "5c31dfd82a974643aead95f929b1a0c5"
      }
     },
     "metadata": {},
     "output_type": "display_data"
    },
    {
     "data": {
      "text/plain": "0/105           ETA: ?s - ",
      "application/vnd.jupyter.widget-view+json": {
       "version_major": 2,
       "version_minor": 0,
       "model_id": "313c3d0d319341838ebbc3494ff9697d"
      }
     },
     "metadata": {},
     "output_type": "display_data"
    },
    {
     "data": {
      "text/plain": "0/105           ETA: ?s - ",
      "application/vnd.jupyter.widget-view+json": {
       "version_major": 2,
       "version_minor": 0,
       "model_id": "09e496c4c12240ca976159b9e50b8f43"
      }
     },
     "metadata": {},
     "output_type": "display_data"
    },
    {
     "data": {
      "text/plain": "0/105           ETA: ?s - ",
      "application/vnd.jupyter.widget-view+json": {
       "version_major": 2,
       "version_minor": 0,
       "model_id": "119a0577971a4dbfbf9a3d6421b1355e"
      }
     },
     "metadata": {},
     "output_type": "display_data"
    },
    {
     "data": {
      "text/plain": "0/105           ETA: ?s - ",
      "application/vnd.jupyter.widget-view+json": {
       "version_major": 2,
       "version_minor": 0,
       "model_id": "d5353f18b0444e92b386b20f674fd6f9"
      }
     },
     "metadata": {},
     "output_type": "display_data"
    },
    {
     "data": {
      "text/plain": "0/105           ETA: ?s - ",
      "application/vnd.jupyter.widget-view+json": {
       "version_major": 2,
       "version_minor": 0,
       "model_id": "d0284331a2fc410a8c33299460c83d38"
      }
     },
     "metadata": {},
     "output_type": "display_data"
    }
   ],
   "source": [
    "emb_history, emb_result, emb_predict = deep_model(emb_model, x_train_seq_trunc, y_train_categorical,\n",
    "                         x_dev_seq_trunc, y_dev_categorical)"
   ]
  },
  {
   "cell_type": "code",
   "execution_count": 145,
   "metadata": {
    "pycharm": {
     "name": "#%%\n"
    }
   },
   "outputs": [
    {
     "name": "stdout",
     "output_type": "stream",
     "text": [
      "[0.9390789270401001, 0.5727878212928772]\n",
      "Classification report:\n",
      "              precision    recall  f1-score   support\n",
      "\n",
      "           0       0.34      0.09      0.14       205\n",
      "           1       0.60      0.71      0.65       470\n",
      "           2       0.56      0.66      0.61       376\n",
      "\n",
      "    accuracy                           0.57      1051\n",
      "   macro avg       0.50      0.49      0.47      1051\n",
      "weighted avg       0.54      0.57      0.54      1051\n",
      "\n",
      "Accuracy:\n",
      "0.5727878211227403\n",
      "Confusion matrix:\n"
     ]
    },
    {
     "data": {
      "text/plain": "<Figure size 720x504 with 2 Axes>",
      "image/png": "[encoded data removed]"
     },
     "metadata": {
      "needs_background": "light"
     },
     "output_type": "display_data"
    },
    {
     "data": {
      "text/plain": "<Figure size 432x288 with 1 Axes>",
      "image/png": "[encoded data removed]"
     },
     "metadata": {
      "needs_background": "light"
     },
     "output_type": "display_data"
    },
    {
     "data": {
      "text/plain": "<Figure size 432x288 with 1 Axes>",
      "image/png": "[encoded data removed]"
     },
     "metadata": {
      "needs_background": "light"
     },
     "output_type": "display_data"
    }
   ],
   "source": [
    "print(emb_result)\n",
    "evaluate(emb_predict, y_dev_le, emb_history)"
   ]
  },
  {
   "cell_type": "code",
   "execution_count": 146,
   "metadata": {
    "pycharm": {
     "name": "#%%\n"
    }
   },
   "outputs": [],
   "source": [
    "glove_file = 'glove.twitter.27B.' + str(GLOVE_DIMENSIONS) + 'd.txt'\n",
    "emb_dict = {}\n",
    "glove = open(Path('./db') / glove_file, encoding=\"utf8\")\n",
    "for line in glove:\n",
    "    values = line.split()\n",
    "    word = values[0]\n",
    "    vector = np.asarray(values[1:], dtype='float32')\n",
    "    emb_dict[word] = vector\n",
    "glove.close()"
   ]
  },
  {
   "cell_type": "code",
   "execution_count": 147,
   "metadata": {
    "pycharm": {
     "name": "#%%\n"
    }
   },
   "outputs": [],
   "source": [
    "\n",
    "emb_matrix = np.zeros((NUM_WORDS, GLOVE_DIMENSIONS))\n",
    "\n",
    "for w, i in tk.word_index.items():\n",
    "    if i < NUM_WORDS:\n",
    "        vect = emb_dict.get(w)\n",
    "        if vect is not None:\n",
    "            emb_matrix[i] = vect\n",
    "    else:\n",
    "        break"
   ]
  },
  {
   "cell_type": "code",
   "execution_count": 148,
   "metadata": {
    "pycharm": {
     "name": "#%%\n"
    }
   },
   "outputs": [
    {
     "name": "stdout",
     "output_type": "stream",
     "text": [
      "Model: \"sequential_15\"\n",
      "_________________________________________________________________\n",
      "Layer (type)                 Output Shape              Param #   \n",
      "=================================================================\n",
      "embedding_15 (Embedding)     (None, 24, 100)           1000000   \n",
      "_________________________________________________________________\n",
      "flatten_15 (Flatten)         (None, 2400)              0         \n",
      "_________________________________________________________________\n",
      "dense_15 (Dense)             (None, 3)                 7203      \n",
      "=================================================================\n",
      "Total params: 1,007,203\n",
      "Trainable params: 1,007,203\n",
      "Non-trainable params: 0\n",
      "_________________________________________________________________\n"
     ]
    }
   ],
   "source": [
    "glove_model = models.Sequential()\n",
    "glove_model.add(layers.Embedding(NUM_WORDS, GLOVE_DIMENSIONS, input_length=SEQ_MAX_LEN))\n",
    "glove_model.add(layers.Flatten())\n",
    "glove_model.add(layers.Dense(3, activation='softmax'))\n",
    "glove_model.summary()"
   ]
  },
  {
   "cell_type": "code",
   "execution_count": 149,
   "metadata": {
    "pycharm": {
     "name": "#%%\n"
    }
   },
   "outputs": [
    {
     "data": {
      "text/plain": "Training:   0%|           0/150 ETA: ?s,  ?epochs/s",
      "application/vnd.jupyter.widget-view+json": {
       "version_major": 2,
       "version_minor": 0,
       "model_id": "654b6d6080d440869ddc38b1eaa5137b"
      }
     },
     "metadata": {},
     "output_type": "display_data"
    },
    {
     "name": "stdout",
     "output_type": "stream",
     "text": [
      "Epoch 1/150\n",
      "Epoch 2/150\n",
      "Epoch 3/150\n",
      "Epoch 4/150\n",
      "33/33 [==============================] - 0s 2ms/step - loss: 0.9547 - accuracy: 0.5775\b\b\b\b\b\b\b\b\b\b\b\b\b\b\b\b\b\b\b\b\b\b\b\b\b\b\b\b\b\b\b\b\b\b\b\b\b\b\b\b\b\b\b\b\b\b\b\b\b\b\b\b\b\b\b\b\b\b\b\b\b\b\b\b\b\b\b\b\b\b\b\b\b\b\b\b\b\b\b\b\b\b\b\b\b\b\b\b\b\b\b\b\b\b\b\b\b\b\b\b\b\b\b\b\b\b\b\b\b\b\b\b\b\b\b\b\b\b\b\b\b\b\b\b\b\b\b\b\b\b\b\b\b\b\b\b\b\b\b\b\b\b\b\b\b\b\b\b\b\b\b\b\b\b\b\b\b\b\b\b\n"
     ]
    },
    {
     "data": {
      "text/plain": "0/105           ETA: ?s - ",
      "application/vnd.jupyter.widget-view+json": {
       "version_major": 2,
       "version_minor": 0,
       "model_id": "8f0daad49950495f8ca4c4a07f7583df"
      }
     },
     "metadata": {},
     "output_type": "display_data"
    },
    {
     "data": {
      "text/plain": "0/105           ETA: ?s - ",
      "application/vnd.jupyter.widget-view+json": {
       "version_major": 2,
       "version_minor": 0,
       "model_id": "9aa56f63d05f4ed5b19f5ec4b97c3a1d"
      }
     },
     "metadata": {},
     "output_type": "display_data"
    },
    {
     "data": {
      "text/plain": "0/105           ETA: ?s - ",
      "application/vnd.jupyter.widget-view+json": {
       "version_major": 2,
       "version_minor": 0,
       "model_id": "c01f086885f04377a283216a4c9f4119"
      }
     },
     "metadata": {},
     "output_type": "display_data"
    },
    {
     "data": {
      "text/plain": "0/105           ETA: ?s - ",
      "application/vnd.jupyter.widget-view+json": {
       "version_major": 2,
       "version_minor": 0,
       "model_id": "8cb3fc4a1ff84480813bd45bd62474f9"
      }
     },
     "metadata": {},
     "output_type": "display_data"
    }
   ],
   "source": [
    "glove_model.layers[0].set_weights([emb_matrix])\n",
    "glove_model.layers[0].trainable = False\n",
    "\n",
    "glove_history, glove_result, glove_predict = deep_model(glove_model, x_train_seq_trunc, y_train_categorical,\n",
    "                                                        x_dev_seq_trunc, y_dev_categorical)"
   ]
  },
  {
   "cell_type": "code",
   "execution_count": 150,
   "metadata": {
    "pycharm": {
     "name": "#%%\n"
    }
   },
   "outputs": [
    {
     "name": "stdout",
     "output_type": "stream",
     "text": [
      "[0.9547168016433716, 0.577545166015625]\n",
      "Classification report:\n",
      "              precision    recall  f1-score   support\n",
      "\n",
      "           0       0.50      0.17      0.25       205\n",
      "           1       0.61      0.68      0.64       470\n",
      "           2       0.55      0.67      0.61       376\n",
      "\n",
      "    accuracy                           0.58      1051\n",
      "   macro avg       0.55      0.51      0.50      1051\n",
      "weighted avg       0.57      0.58      0.55      1051\n",
      "\n",
      "Accuracy:\n",
      "0.5775451950523312\n",
      "Confusion matrix:\n"
     ]
    },
    {
     "data": {
      "text/plain": "<Figure size 720x504 with 2 Axes>",
      "image/png": "[encoded data removed]"
     },
     "metadata": {
      "needs_background": "light"
     },
     "output_type": "display_data"
    },
    {
     "data": {
      "text/plain": "<Figure size 432x288 with 1 Axes>",
      "image/png": "[encoded data removed]"
     },
     "metadata": {
      "needs_background": "light"
     },
     "output_type": "display_data"
    },
    {
     "data": {
      "text/plain": "<Figure size 432x288 with 1 Axes>",
      "image/png": "[encoded data removed]"
     },
     "metadata": {
      "needs_background": "light"
     },
     "output_type": "display_data"
    }
   ],
   "source": [
    "print(glove_result)\n",
    "evaluate(glove_predict, y_dev_le, glove_history)"
   ]
  }
 ],
 "metadata": {
  "kernelspec": {
   "display_name": "PyCharm (BoW)",
   "language": "python",
   "name": "pycharm-81ce5fe2"
  },
  "language_info": {
   "codemirror_mode": {
    "name": "ipython",
    "version": 3
   },
   "file_extension": ".py",
   "mimetype": "text/x-python",
   "name": "python",
   "nbconvert_exporter": "python",
   "pygments_lexer": "ipython3",
   "version": "3.8.10"
  }
 },
 "nbformat": 4,
 "nbformat_minor": 1
}